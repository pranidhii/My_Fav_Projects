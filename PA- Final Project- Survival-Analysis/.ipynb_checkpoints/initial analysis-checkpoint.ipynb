{
 "cells": [
  {
   "cell_type": "code",
   "execution_count": 121,
   "metadata": {},
   "outputs": [],
   "source": [
    "import pandas as pd\n",
    "\n",
    "initial_data = pd.read_excel(\"data.xlsx\")"
   ]
  },
  {
   "cell_type": "code",
   "execution_count": 122,
   "metadata": {},
   "outputs": [],
   "source": [
    "initial_data = initial_data.drop(columns=['Unnamed: 17', 'Unnamed: 18'],axis=1)\n"
   ]
  },
  {
   "cell_type": "code",
   "execution_count": 123,
   "metadata": {},
   "outputs": [
    {
     "data": {
      "text/plain": [
       "(3397, 17)"
      ]
     },
     "execution_count": 123,
     "metadata": {},
     "output_type": "execute_result"
    }
   ],
   "source": [
    "initial_data.shape"
   ]
  },
  {
   "cell_type": "code",
   "execution_count": 8,
   "metadata": {},
   "outputs": [
    {
     "data": {
      "text/plain": [
       "id                        3397\n",
       "reporting date              57\n",
       "summary                   2103\n",
       "location                   240\n",
       "country                     38\n",
       "gender                       3\n",
       "age                         90\n",
       "symptom_onset               73\n",
       "If_onset_approximated        3\n",
       "hosp_visit_date             70\n",
       "international_traveler      46\n",
       "domestic_traveler           63\n",
       "exposure_start               2\n",
       "exposure_end                 2\n",
       "traveler                    24\n",
       "visiting Wuhan              36\n",
       "from Wuhan                 137\n",
       "dtype: int64"
      ]
     },
     "execution_count": 8,
     "metadata": {},
     "output_type": "execute_result"
    }
   ],
   "source": [
    "initial_data.nunique()"
   ]
  },
  {
   "cell_type": "code",
   "execution_count": 104,
   "metadata": {},
   "outputs": [
    {
     "data": {
      "text/plain": [
       "id                           0\n",
       "reporting date               1\n",
       "summary                      5\n",
       "location                   230\n",
       "country                     54\n",
       "gender                    1712\n",
       "age                       1890\n",
       "symptom_onset             2713\n",
       "If_onset_approximated     2742\n",
       "hosp_visit_date           2777\n",
       "international_traveler    3203\n",
       "domestic_traveler         2909\n",
       "exposure_start            1791\n",
       "exposure_end              1795\n",
       "traveler                  1778\n",
       "visiting Wuhan            1791\n",
       "from Wuhan                3059\n",
       "dtype: int64"
      ]
     },
     "execution_count": 104,
     "metadata": {},
     "output_type": "execute_result"
    }
   ],
   "source": [
    "initial_data.isnull().sum()"
   ]
  },
  {
   "cell_type": "code",
   "execution_count": 78,
   "metadata": {},
   "outputs": [],
   "source": [
    "null_gender = initial_data[initial_data.gender.isnull()]\n"
   ]
  },
  {
   "cell_type": "code",
   "execution_count": 173,
   "metadata": {},
   "outputs": [],
   "source": [
    "initial_data = initial_data[initial_data['gender'].notna()]"
   ]
  },
  {
   "cell_type": "code",
   "execution_count": 82,
   "metadata": {},
   "outputs": [
    {
     "name": "stderr",
     "output_type": "stream",
     "text": [
      "C:\\Users\\keert\\Anaconda3\\lib\\site-packages\\ipykernel_launcher.py:2: SettingWithCopyWarning: \n",
      "A value is trying to be set on a copy of a slice from a DataFrame.\n",
      "Try using .loc[row_indexer,col_indexer] = value instead\n",
      "\n",
      "See the caveats in the documentation: http://pandas.pydata.org/pandas-docs/stable/user_guide/indexing.html#returning-a-view-versus-a-copy\n",
      "  \n"
     ]
    }
   ],
   "source": [
    "#filling female values\n",
    "for index, row in null_gender.iterrows():\n",
    "    null_gender['summary']= null_gender['summary'].apply(str)  \n",
    "    if 'female' in row.summary:\n",
    "        null_gender.loc[index,'gender'] = 'female'"
   ]
  },
  {
   "cell_type": "code",
   "execution_count": 96,
   "metadata": {},
   "outputs": [
    {
     "name": "stderr",
     "output_type": "stream",
     "text": [
      "C:\\Users\\keert\\Anaconda3\\lib\\site-packages\\ipykernel_launcher.py:5: SettingWithCopyWarning: \n",
      "A value is trying to be set on a copy of a slice from a DataFrame.\n",
      "Try using .loc[row_indexer,col_indexer] = value instead\n",
      "\n",
      "See the caveats in the documentation: http://pandas.pydata.org/pandas-docs/stable/user_guide/indexing.html#returning-a-view-versus-a-copy\n",
      "  \"\"\"\n"
     ]
    }
   ],
   "source": [
    "#filling male values\n",
    "\n",
    "import re\n",
    "for index, row in null_gender.iterrows():\n",
    "    null_gender['summary']= null_gender['summary'].apply(str)  \n",
    "    if re.search(r'\\bmale\\b', row.summary):\n",
    "        null_gender.loc[index,'gender'] = 'male'\n",
    "  "
   ]
  },
  {
   "cell_type": "code",
   "execution_count": 101,
   "metadata": {},
   "outputs": [
    {
     "name": "stderr",
     "output_type": "stream",
     "text": [
      "C:\\Users\\keert\\Anaconda3\\lib\\site-packages\\pandas\\core\\generic.py:6287: SettingWithCopyWarning: \n",
      "A value is trying to be set on a copy of a slice from a DataFrame\n",
      "\n",
      "See the caveats in the documentation: http://pandas.pydata.org/pandas-docs/stable/user_guide/indexing.html#returning-a-view-versus-a-copy\n",
      "  self._update_inplace(new_data)\n"
     ]
    }
   ],
   "source": [
    "#fill remaining nulls with gender=NotKnown\n",
    "#fill remaining nulls with gender=NotKnown\n",
    "\n",
    "null_gender['gender'].fillna('NotKnown',inplace=True)"
   ]
  },
  {
   "cell_type": "code",
   "execution_count": 186,
   "metadata": {},
   "outputs": [
    {
     "data": {
      "text/html": [
       "<div>\n",
       "<style scoped>\n",
       "    .dataframe tbody tr th:only-of-type {\n",
       "        vertical-align: middle;\n",
       "    }\n",
       "\n",
       "    .dataframe tbody tr th {\n",
       "        vertical-align: top;\n",
       "    }\n",
       "\n",
       "    .dataframe thead th {\n",
       "        text-align: right;\n",
       "    }\n",
       "</style>\n",
       "<table border=\"1\" class=\"dataframe\">\n",
       "  <thead>\n",
       "    <tr style=\"text-align: right;\">\n",
       "      <th></th>\n",
       "      <th>id</th>\n",
       "      <th>reporting date</th>\n",
       "      <th>summary</th>\n",
       "      <th>location</th>\n",
       "      <th>country</th>\n",
       "      <th>gender</th>\n",
       "      <th>age</th>\n",
       "      <th>symptom_onset</th>\n",
       "      <th>If_onset_approximated</th>\n",
       "      <th>hosp_visit_date</th>\n",
       "      <th>international_traveler</th>\n",
       "      <th>domestic_traveler</th>\n",
       "      <th>exposure_start</th>\n",
       "      <th>exposure_end</th>\n",
       "      <th>traveler</th>\n",
       "      <th>visiting Wuhan</th>\n",
       "      <th>from Wuhan</th>\n",
       "    </tr>\n",
       "  </thead>\n",
       "  <tbody>\n",
       "    <tr>\n",
       "      <td>202</td>\n",
       "      <td>203</td>\n",
       "      <td>2020-01-30</td>\n",
       "      <td>new confirmed COVID-19 patient in Paris, Franc...</td>\n",
       "      <td>Paris</td>\n",
       "      <td>France</td>\n",
       "      <td>NotKnown</td>\n",
       "      <td>NaN</td>\n",
       "      <td>NaN</td>\n",
       "      <td>NaN</td>\n",
       "      <td>NaN</td>\n",
       "      <td>NaT</td>\n",
       "      <td>NaT</td>\n",
       "      <td>0.0</td>\n",
       "      <td>0.0</td>\n",
       "      <td>0</td>\n",
       "      <td>0</td>\n",
       "      <td>NaN</td>\n",
       "    </tr>\n",
       "    <tr>\n",
       "      <td>203</td>\n",
       "      <td>204</td>\n",
       "      <td>2020-02-08</td>\n",
       "      <td>new confirmed COVID-19 patient in France: 9, i...</td>\n",
       "      <td>France</td>\n",
       "      <td>France</td>\n",
       "      <td>NotKnown</td>\n",
       "      <td>9.0</td>\n",
       "      <td>NaN</td>\n",
       "      <td>NaN</td>\n",
       "      <td>NaN</td>\n",
       "      <td>2020-01-24</td>\n",
       "      <td>2020-01-28</td>\n",
       "      <td>0.0</td>\n",
       "      <td>0.0</td>\n",
       "      <td>0</td>\n",
       "      <td>0</td>\n",
       "      <td>NaN</td>\n",
       "    </tr>\n",
       "    <tr>\n",
       "      <td>204</td>\n",
       "      <td>205</td>\n",
       "      <td>2020-02-08</td>\n",
       "      <td>new confirmed COVID-19 patient in France: in c...</td>\n",
       "      <td>France</td>\n",
       "      <td>France</td>\n",
       "      <td>NotKnown</td>\n",
       "      <td>NaN</td>\n",
       "      <td>NaN</td>\n",
       "      <td>NaN</td>\n",
       "      <td>NaN</td>\n",
       "      <td>2020-01-24</td>\n",
       "      <td>2020-01-28</td>\n",
       "      <td>0.0</td>\n",
       "      <td>0.0</td>\n",
       "      <td>0</td>\n",
       "      <td>0</td>\n",
       "      <td>NaN</td>\n",
       "    </tr>\n",
       "    <tr>\n",
       "      <td>205</td>\n",
       "      <td>206</td>\n",
       "      <td>2020-02-08</td>\n",
       "      <td>new confirmed COVID-19 patient in France: in c...</td>\n",
       "      <td>France</td>\n",
       "      <td>France</td>\n",
       "      <td>NotKnown</td>\n",
       "      <td>NaN</td>\n",
       "      <td>NaN</td>\n",
       "      <td>NaN</td>\n",
       "      <td>NaN</td>\n",
       "      <td>2020-01-24</td>\n",
       "      <td>2020-01-28</td>\n",
       "      <td>0.0</td>\n",
       "      <td>0.0</td>\n",
       "      <td>0</td>\n",
       "      <td>0</td>\n",
       "      <td>NaN</td>\n",
       "    </tr>\n",
       "    <tr>\n",
       "      <td>206</td>\n",
       "      <td>207</td>\n",
       "      <td>2020-02-08</td>\n",
       "      <td>new confirmed COVID-19 patient in France: in c...</td>\n",
       "      <td>France</td>\n",
       "      <td>France</td>\n",
       "      <td>NotKnown</td>\n",
       "      <td>NaN</td>\n",
       "      <td>NaN</td>\n",
       "      <td>NaN</td>\n",
       "      <td>NaN</td>\n",
       "      <td>2020-01-24</td>\n",
       "      <td>2020-01-28</td>\n",
       "      <td>0.0</td>\n",
       "      <td>0.0</td>\n",
       "      <td>0</td>\n",
       "      <td>0</td>\n",
       "      <td>NaN</td>\n",
       "    </tr>\n",
       "  </tbody>\n",
       "</table>\n",
       "</div>"
      ],
      "text/plain": [
       "      id reporting date                                            summary  \\\n",
       "202  203     2020-01-30  new confirmed COVID-19 patient in Paris, Franc...   \n",
       "203  204     2020-02-08  new confirmed COVID-19 patient in France: 9, i...   \n",
       "204  205     2020-02-08  new confirmed COVID-19 patient in France: in c...   \n",
       "205  206     2020-02-08  new confirmed COVID-19 patient in France: in c...   \n",
       "206  207     2020-02-08  new confirmed COVID-19 patient in France: in c...   \n",
       "\n",
       "    location country    gender  age symptom_onset  If_onset_approximated  \\\n",
       "202    Paris  France  NotKnown  NaN           NaN                    NaN   \n",
       "203   France  France  NotKnown  9.0           NaN                    NaN   \n",
       "204   France  France  NotKnown  NaN           NaN                    NaN   \n",
       "205   France  France  NotKnown  NaN           NaN                    NaN   \n",
       "206   France  France  NotKnown  NaN           NaN                    NaN   \n",
       "\n",
       "    hosp_visit_date international_traveler domestic_traveler  exposure_start  \\\n",
       "202             NaN                    NaT               NaT             0.0   \n",
       "203             NaN             2020-01-24        2020-01-28             0.0   \n",
       "204             NaN             2020-01-24        2020-01-28             0.0   \n",
       "205             NaN             2020-01-24        2020-01-28             0.0   \n",
       "206             NaN             2020-01-24        2020-01-28             0.0   \n",
       "\n",
       "     exposure_end traveler visiting Wuhan from Wuhan  \n",
       "202           0.0        0              0        NaN  \n",
       "203           0.0        0              0        NaN  \n",
       "204           0.0        0              0        NaN  \n",
       "205           0.0        0              0        NaN  \n",
       "206           0.0        0              0        NaN  "
      ]
     },
     "execution_count": 186,
     "metadata": {},
     "output_type": "execute_result"
    }
   ],
   "source": [
    "null_gender.head()"
   ]
  },
  {
   "cell_type": "code",
   "execution_count": 187,
   "metadata": {},
   "outputs": [
    {
     "name": "stdout",
     "output_type": "stream",
     "text": [
      "(3397, 17)\n",
      "0\n"
     ]
    }
   ],
   "source": [
    "#merging initial data with imputed gender df\n",
    "\n",
    "res = initial_data.append(null_gender)\n",
    "print(res.shape)\n",
    "print(res.gender.isnull().sum())"
   ]
  },
  {
   "cell_type": "code",
   "execution_count": 188,
   "metadata": {},
   "outputs": [
    {
     "data": {
      "text/plain": [
       "(1890, 17)"
      ]
     },
     "execution_count": 188,
     "metadata": {},
     "output_type": "execute_result"
    }
   ],
   "source": [
    "null_age = res[res.age.isnull()]\n",
    "null_age.shape"
   ]
  },
  {
   "cell_type": "code",
   "execution_count": 189,
   "metadata": {},
   "outputs": [],
   "source": [
    "for index, row in null_age.iterrows():\n",
    "    if re.search(r'\\b40s\\b', row.summary):\n",
    "        null_age.loc[index,'age'] = 45\n",
    "    elif re.search(r'\\b30s\\b', row.summary):\n",
    "        null_age.loc[index,'age'] = 35\n",
    "    elif re.search(r'\\b50s\\b', row.summary):\n",
    "        null_age.loc[index,'age'] = 55\n",
    "    elif re.search(r'\\b60s\\b', row.summary):\n",
    "        null_age.loc[index,'age'] = 65\n",
    "    elif re.search(r'\\b70s\\b', row.summary):\n",
    "        null_age.loc[index,'age'] = 75\n",
    "    elif re.search(r'\\b80s\\b', row.summary):\n",
    "        null_age.loc[index,'age'] = 85\n",
    "    elif re.search(r'\\b90s\\b', row.summary):\n",
    "        null_age.loc[index,'age'] = 90\n",
    "        "
   ]
  },
  {
   "cell_type": "code",
   "execution_count": 190,
   "metadata": {},
   "outputs": [],
   "source": [
    "#fill remaining nulls with age=UnKnown\n",
    "\n",
    "null_age['age'].fillna('UnKnown',inplace=True)"
   ]
  },
  {
   "cell_type": "code",
   "execution_count": 191,
   "metadata": {},
   "outputs": [
    {
     "name": "stdout",
     "output_type": "stream",
     "text": [
      "(3397, 17)\n",
      "0\n"
     ]
    }
   ],
   "source": [
    "#merging above merged df with imputed age df\n",
    "\n",
    "res1 = res[res['age'].notna()]\n",
    "new_data = res1.append(null_age)\n",
    "print(new_data.shape)\n",
    "print(new_data.age.isnull().sum())"
   ]
  },
  {
   "cell_type": "code",
   "execution_count": 192,
   "metadata": {},
   "outputs": [
    {
     "data": {
      "text/plain": [
       "0"
      ]
     },
     "execution_count": 192,
     "metadata": {},
     "output_type": "execute_result"
    }
   ],
   "source": [
    "new_data.gender.isnull().sum()"
   ]
  },
  {
   "cell_type": "code",
   "execution_count": 193,
   "metadata": {},
   "outputs": [],
   "source": [
    "new_data.to_excel(\"new_data.xlsx\")"
   ]
  }
 ],
 "metadata": {
  "kernelspec": {
   "display_name": "Python 3",
   "language": "python",
   "name": "python3"
  },
  "language_info": {
   "codemirror_mode": {
    "name": "ipython",
    "version": 3
   },
   "file_extension": ".py",
   "mimetype": "text/x-python",
   "name": "python",
   "nbconvert_exporter": "python",
   "pygments_lexer": "ipython3",
   "version": "3.7.3"
  }
 },
 "nbformat": 4,
 "nbformat_minor": 2
}
