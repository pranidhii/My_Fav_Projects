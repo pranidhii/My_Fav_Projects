{
 "cells": [
  {
   "cell_type": "code",
   "execution_count": 1,
   "metadata": {},
   "outputs": [],
   "source": [
    "%matplotlib inline\n",
    "import pandas as pd\n",
    "from datetime import datetime\n",
    "import pandas as pd\n",
    "from sklearn.model_selection import train_test_split\n",
    "import xgboost as xgb\n",
    "from sklearn.linear_model import LinearRegression, Ridge,BayesianRidge\n",
    "from sklearn.cluster import MiniBatchKMeans\n",
    "from sklearn.metrics import mean_squared_error\n",
    "from math import radians, cos, sin, asin, sqrt\n",
    "import seaborn as sns\n",
    "import matplotlib\n",
    "import numpy as np\n",
    "import matplotlib.pyplot as plt\n",
    "plt.rcParams['figure.figsize'] = [16, 10]"
   ]
  },
  {
   "cell_type": "code",
   "execution_count": 3,
   "metadata": {},
   "outputs": [],
   "source": [
    "train = pd.read_csv('Train.csv')\n",
    "test = pd.read_csv('TestFileTemplate.csv')"
   ]
  },
  {
   "cell_type": "code",
   "execution_count": 4,
   "metadata": {},
   "outputs": [
    {
     "name": "stdout",
     "output_type": "stream",
     "text": [
      "(1000000, 7)\n",
      "(50, 6)\n"
     ]
    }
   ],
   "source": [
    "print(train.shape)\n",
    "print(test.shape)"
   ]
  },
  {
   "cell_type": "code",
   "execution_count": 5,
   "metadata": {},
   "outputs": [
    {
     "name": "stdout",
     "output_type": "stream",
     "text": [
      "       pickup_datetime  NumberOfPassengers  duration    pickup_x    pickup_y  \\\n",
      "0  2034-06-07 20:47:29                   1       434  135.428113  321.190773   \n",
      "1  2034-04-14 08:00:21                   1       415  148.781291  322.565536   \n",
      "2  2034-04-20 18:57:16                   2       398  124.000006  313.347763   \n",
      "3  2034-04-28 22:40:52                   1       746  124.288413  316.495404   \n",
      "4  2034-05-28 11:39:56                   1       102  177.344861  358.087844   \n",
      "\n",
      "    dropoff_x   dropoff_y  \n",
      "0  141.317712  321.357802  \n",
      "1  157.145868  337.052655  \n",
      "2  131.362606  300.613585  \n",
      "3  143.284351  334.542116  \n",
      "4  168.709489  363.038196  \n"
     ]
    },
    {
     "data": {
      "text/html": [
       "<div>\n",
       "<style scoped>\n",
       "    .dataframe tbody tr th:only-of-type {\n",
       "        vertical-align: middle;\n",
       "    }\n",
       "\n",
       "    .dataframe tbody tr th {\n",
       "        vertical-align: top;\n",
       "    }\n",
       "\n",
       "    .dataframe thead th {\n",
       "        text-align: right;\n",
       "    }\n",
       "</style>\n",
       "<table border=\"1\" class=\"dataframe\">\n",
       "  <thead>\n",
       "    <tr style=\"text-align: right;\">\n",
       "      <th></th>\n",
       "      <th>pickup_datetime</th>\n",
       "      <th>NumberOfPassengers</th>\n",
       "      <th>pickup_x</th>\n",
       "      <th>pickup_y</th>\n",
       "      <th>dropoff_x</th>\n",
       "      <th>dropoff_y</th>\n",
       "    </tr>\n",
       "  </thead>\n",
       "  <tbody>\n",
       "    <tr>\n",
       "      <th>0</th>\n",
       "      <td>6/7/34 20:47</td>\n",
       "      <td>1</td>\n",
       "      <td>135.428113</td>\n",
       "      <td>321.190773</td>\n",
       "      <td>141.317712</td>\n",
       "      <td>321.357802</td>\n",
       "    </tr>\n",
       "    <tr>\n",
       "      <th>1</th>\n",
       "      <td>4/14/34 8:00</td>\n",
       "      <td>1</td>\n",
       "      <td>148.781291</td>\n",
       "      <td>322.565536</td>\n",
       "      <td>157.145868</td>\n",
       "      <td>337.052655</td>\n",
       "    </tr>\n",
       "    <tr>\n",
       "      <th>2</th>\n",
       "      <td>4/20/34 18:57</td>\n",
       "      <td>2</td>\n",
       "      <td>124.000006</td>\n",
       "      <td>313.347763</td>\n",
       "      <td>131.362606</td>\n",
       "      <td>300.613585</td>\n",
       "    </tr>\n",
       "    <tr>\n",
       "      <th>3</th>\n",
       "      <td>4/28/34 22:40</td>\n",
       "      <td>1</td>\n",
       "      <td>124.288413</td>\n",
       "      <td>316.495404</td>\n",
       "      <td>143.284350</td>\n",
       "      <td>334.542116</td>\n",
       "    </tr>\n",
       "    <tr>\n",
       "      <th>4</th>\n",
       "      <td>5/28/34 11:39</td>\n",
       "      <td>1</td>\n",
       "      <td>177.344861</td>\n",
       "      <td>358.087844</td>\n",
       "      <td>168.709489</td>\n",
       "      <td>363.038196</td>\n",
       "    </tr>\n",
       "  </tbody>\n",
       "</table>\n",
       "</div>"
      ],
      "text/plain": [
       "  pickup_datetime  NumberOfPassengers    pickup_x    pickup_y   dropoff_x  \\\n",
       "0    6/7/34 20:47                   1  135.428113  321.190773  141.317712   \n",
       "1    4/14/34 8:00                   1  148.781291  322.565536  157.145868   \n",
       "2   4/20/34 18:57                   2  124.000006  313.347763  131.362606   \n",
       "3   4/28/34 22:40                   1  124.288413  316.495404  143.284350   \n",
       "4   5/28/34 11:39                   1  177.344861  358.087844  168.709489   \n",
       "\n",
       "    dropoff_y  \n",
       "0  321.357802  \n",
       "1  337.052655  \n",
       "2  300.613585  \n",
       "3  334.542116  \n",
       "4  363.038196  "
      ]
     },
     "execution_count": 5,
     "metadata": {},
     "output_type": "execute_result"
    }
   ],
   "source": [
    "print(train.head())\n",
    "test.head()\n"
   ]
  },
  {
   "cell_type": "markdown",
   "metadata": {},
   "source": [
    "change the formatting of the date variables (`pickup_datetime` and `dropoff_datetime`)"
   ]
  },
  {
   "cell_type": "code",
   "execution_count": 6,
   "metadata": {},
   "outputs": [],
   "source": [
    "train['pickup_datetime'] = pd.to_datetime(train.pickup_datetime)\n",
    "test['pickup_datetime'] = pd.to_datetime(test.pickup_datetime)"
   ]
  },
  {
   "cell_type": "code",
   "execution_count": 7,
   "metadata": {},
   "outputs": [],
   "source": [
    "#Extracting Month\n",
    "train['Month'] = train['pickup_datetime'].dt.month\n",
    "test['Month'] = test['pickup_datetime'].dt.month"
   ]
  },
  {
   "cell_type": "code",
   "execution_count": 8,
   "metadata": {},
   "outputs": [
    {
     "data": {
      "text/plain": [
       "(Month\n",
       " 1     99525\n",
       " 2    147047\n",
       " 3    178354\n",
       " 4    172556\n",
       " 5    173839\n",
       " 6    161219\n",
       " 7     67460\n",
       " dtype: int64, Month\n",
       " 1     2\n",
       " 2     8\n",
       " 3     7\n",
       " 4    11\n",
       " 5    13\n",
       " 6     8\n",
       " 7     1\n",
       " dtype: int64)"
      ]
     },
     "execution_count": 8,
     "metadata": {},
     "output_type": "execute_result"
    }
   ],
   "source": [
    "train.groupby('Month').size(),test.groupby('Month').size()"
   ]
  },
  {
   "cell_type": "code",
   "execution_count": 9,
   "metadata": {},
   "outputs": [
    {
     "data": {
      "text/plain": [
       "(31, 26)"
      ]
     },
     "execution_count": 9,
     "metadata": {},
     "output_type": "execute_result"
    }
   ],
   "source": [
    "#No of days in a month\n",
    "train['DayofMonth'] = train['pickup_datetime'].dt.day\n",
    "test['DayofMonth'] = test['pickup_datetime'].dt.day\n",
    "len(train.groupby('DayofMonth').size()),len(test.groupby('DayofMonth').size())"
   ]
  },
  {
   "cell_type": "code",
   "execution_count": 10,
   "metadata": {},
   "outputs": [
    {
     "data": {
      "text/plain": [
       "(24, 19)"
      ]
     },
     "execution_count": 10,
     "metadata": {},
     "output_type": "execute_result"
    }
   ],
   "source": [
    "#24 hours\n",
    "train['Hour'] = train['pickup_datetime'].dt.hour\n",
    "test['Hour'] = test['pickup_datetime'].dt.hour\n",
    "len(train.groupby('Hour').size()),len(test.groupby('Hour').size())"
   ]
  },
  {
   "cell_type": "code",
   "execution_count": 11,
   "metadata": {},
   "outputs": [
    {
     "data": {
      "text/plain": [
       "(7, 7)"
      ]
     },
     "execution_count": 11,
     "metadata": {},
     "output_type": "execute_result"
    }
   ],
   "source": [
    "#No of days\n",
    "train['dayofweek'] = train['pickup_datetime'].dt.dayofweek\n",
    "test['dayofweek'] = test['pickup_datetime'].dt.dayofweek\n",
    "len(train.groupby('dayofweek').size()),len(test.groupby('dayofweek').size())"
   ]
  },
  {
   "cell_type": "code",
   "execution_count": 12,
   "metadata": {},
   "outputs": [],
   "source": [
    "train = train.assign(log_duration = np.log(train.duration+1))"
   ]
  },
  {
   "cell_type": "code",
   "execution_count": 13,
   "metadata": {},
   "outputs": [
    {
     "data": {
      "text/html": [
       "<div>\n",
       "<style scoped>\n",
       "    .dataframe tbody tr th:only-of-type {\n",
       "        vertical-align: middle;\n",
       "    }\n",
       "\n",
       "    .dataframe tbody tr th {\n",
       "        vertical-align: top;\n",
       "    }\n",
       "\n",
       "    .dataframe thead th {\n",
       "        text-align: right;\n",
       "    }\n",
       "</style>\n",
       "<table border=\"1\" class=\"dataframe\">\n",
       "  <thead>\n",
       "    <tr style=\"text-align: right;\">\n",
       "      <th></th>\n",
       "      <th>pickup_datetime</th>\n",
       "      <th>NumberOfPassengers</th>\n",
       "      <th>duration</th>\n",
       "      <th>pickup_x</th>\n",
       "      <th>pickup_y</th>\n",
       "      <th>dropoff_x</th>\n",
       "      <th>dropoff_y</th>\n",
       "      <th>Month</th>\n",
       "      <th>DayofMonth</th>\n",
       "      <th>Hour</th>\n",
       "      <th>dayofweek</th>\n",
       "      <th>log_duration</th>\n",
       "    </tr>\n",
       "  </thead>\n",
       "  <tbody>\n",
       "    <tr>\n",
       "      <th>0</th>\n",
       "      <td>2034-06-07 20:47:29</td>\n",
       "      <td>1</td>\n",
       "      <td>434</td>\n",
       "      <td>135.428113</td>\n",
       "      <td>321.190773</td>\n",
       "      <td>141.317712</td>\n",
       "      <td>321.357802</td>\n",
       "      <td>6</td>\n",
       "      <td>7</td>\n",
       "      <td>20</td>\n",
       "      <td>2</td>\n",
       "      <td>6.075346</td>\n",
       "    </tr>\n",
       "    <tr>\n",
       "      <th>1</th>\n",
       "      <td>2034-04-14 08:00:21</td>\n",
       "      <td>1</td>\n",
       "      <td>415</td>\n",
       "      <td>148.781291</td>\n",
       "      <td>322.565536</td>\n",
       "      <td>157.145868</td>\n",
       "      <td>337.052655</td>\n",
       "      <td>4</td>\n",
       "      <td>14</td>\n",
       "      <td>8</td>\n",
       "      <td>4</td>\n",
       "      <td>6.030685</td>\n",
       "    </tr>\n",
       "    <tr>\n",
       "      <th>2</th>\n",
       "      <td>2034-04-20 18:57:16</td>\n",
       "      <td>2</td>\n",
       "      <td>398</td>\n",
       "      <td>124.000006</td>\n",
       "      <td>313.347763</td>\n",
       "      <td>131.362606</td>\n",
       "      <td>300.613585</td>\n",
       "      <td>4</td>\n",
       "      <td>20</td>\n",
       "      <td>18</td>\n",
       "      <td>3</td>\n",
       "      <td>5.988961</td>\n",
       "    </tr>\n",
       "    <tr>\n",
       "      <th>3</th>\n",
       "      <td>2034-04-28 22:40:52</td>\n",
       "      <td>1</td>\n",
       "      <td>746</td>\n",
       "      <td>124.288413</td>\n",
       "      <td>316.495404</td>\n",
       "      <td>143.284351</td>\n",
       "      <td>334.542116</td>\n",
       "      <td>4</td>\n",
       "      <td>28</td>\n",
       "      <td>22</td>\n",
       "      <td>4</td>\n",
       "      <td>6.616065</td>\n",
       "    </tr>\n",
       "    <tr>\n",
       "      <th>4</th>\n",
       "      <td>2034-05-28 11:39:56</td>\n",
       "      <td>1</td>\n",
       "      <td>102</td>\n",
       "      <td>177.344861</td>\n",
       "      <td>358.087844</td>\n",
       "      <td>168.709489</td>\n",
       "      <td>363.038196</td>\n",
       "      <td>5</td>\n",
       "      <td>28</td>\n",
       "      <td>11</td>\n",
       "      <td>6</td>\n",
       "      <td>4.634729</td>\n",
       "    </tr>\n",
       "  </tbody>\n",
       "</table>\n",
       "</div>"
      ],
      "text/plain": [
       "      pickup_datetime  NumberOfPassengers  duration    pickup_x    pickup_y  \\\n",
       "0 2034-06-07 20:47:29                   1       434  135.428113  321.190773   \n",
       "1 2034-04-14 08:00:21                   1       415  148.781291  322.565536   \n",
       "2 2034-04-20 18:57:16                   2       398  124.000006  313.347763   \n",
       "3 2034-04-28 22:40:52                   1       746  124.288413  316.495404   \n",
       "4 2034-05-28 11:39:56                   1       102  177.344861  358.087844   \n",
       "\n",
       "    dropoff_x   dropoff_y  Month  DayofMonth  Hour  dayofweek  log_duration  \n",
       "0  141.317712  321.357802      6           7    20          2      6.075346  \n",
       "1  157.145868  337.052655      4          14     8          4      6.030685  \n",
       "2  131.362606  300.613585      4          20    18          3      5.988961  \n",
       "3  143.284351  334.542116      4          28    22          4      6.616065  \n",
       "4  168.709489  363.038196      5          28    11          6      4.634729  "
      ]
     },
     "execution_count": 13,
     "metadata": {},
     "output_type": "execute_result"
    }
   ],
   "source": [
    "train.head()"
   ]
  },
  {
   "cell_type": "code",
   "execution_count": 14,
   "metadata": {},
   "outputs": [
    {
     "data": {
      "text/html": [
       "<div>\n",
       "<style scoped>\n",
       "    .dataframe tbody tr th:only-of-type {\n",
       "        vertical-align: middle;\n",
       "    }\n",
       "\n",
       "    .dataframe tbody tr th {\n",
       "        vertical-align: top;\n",
       "    }\n",
       "\n",
       "    .dataframe thead th {\n",
       "        text-align: right;\n",
       "    }\n",
       "</style>\n",
       "<table border=\"1\" class=\"dataframe\">\n",
       "  <thead>\n",
       "    <tr style=\"text-align: right;\">\n",
       "      <th></th>\n",
       "      <th>pickup_datetime</th>\n",
       "      <th>NumberOfPassengers</th>\n",
       "      <th>pickup_x</th>\n",
       "      <th>pickup_y</th>\n",
       "      <th>dropoff_x</th>\n",
       "      <th>dropoff_y</th>\n",
       "      <th>Month</th>\n",
       "      <th>DayofMonth</th>\n",
       "      <th>Hour</th>\n",
       "      <th>dayofweek</th>\n",
       "    </tr>\n",
       "  </thead>\n",
       "  <tbody>\n",
       "    <tr>\n",
       "      <th>0</th>\n",
       "      <td>2034-06-07 20:47:00</td>\n",
       "      <td>1</td>\n",
       "      <td>135.428113</td>\n",
       "      <td>321.190773</td>\n",
       "      <td>141.317712</td>\n",
       "      <td>321.357802</td>\n",
       "      <td>6</td>\n",
       "      <td>7</td>\n",
       "      <td>20</td>\n",
       "      <td>2</td>\n",
       "    </tr>\n",
       "    <tr>\n",
       "      <th>1</th>\n",
       "      <td>2034-04-14 08:00:00</td>\n",
       "      <td>1</td>\n",
       "      <td>148.781291</td>\n",
       "      <td>322.565536</td>\n",
       "      <td>157.145868</td>\n",
       "      <td>337.052655</td>\n",
       "      <td>4</td>\n",
       "      <td>14</td>\n",
       "      <td>8</td>\n",
       "      <td>4</td>\n",
       "    </tr>\n",
       "    <tr>\n",
       "      <th>2</th>\n",
       "      <td>2034-04-20 18:57:00</td>\n",
       "      <td>2</td>\n",
       "      <td>124.000006</td>\n",
       "      <td>313.347763</td>\n",
       "      <td>131.362606</td>\n",
       "      <td>300.613585</td>\n",
       "      <td>4</td>\n",
       "      <td>20</td>\n",
       "      <td>18</td>\n",
       "      <td>3</td>\n",
       "    </tr>\n",
       "    <tr>\n",
       "      <th>3</th>\n",
       "      <td>2034-04-28 22:40:00</td>\n",
       "      <td>1</td>\n",
       "      <td>124.288413</td>\n",
       "      <td>316.495404</td>\n",
       "      <td>143.284350</td>\n",
       "      <td>334.542116</td>\n",
       "      <td>4</td>\n",
       "      <td>28</td>\n",
       "      <td>22</td>\n",
       "      <td>4</td>\n",
       "    </tr>\n",
       "    <tr>\n",
       "      <th>4</th>\n",
       "      <td>2034-05-28 11:39:00</td>\n",
       "      <td>1</td>\n",
       "      <td>177.344861</td>\n",
       "      <td>358.087844</td>\n",
       "      <td>168.709489</td>\n",
       "      <td>363.038196</td>\n",
       "      <td>5</td>\n",
       "      <td>28</td>\n",
       "      <td>11</td>\n",
       "      <td>6</td>\n",
       "    </tr>\n",
       "  </tbody>\n",
       "</table>\n",
       "</div>"
      ],
      "text/plain": [
       "      pickup_datetime  NumberOfPassengers    pickup_x    pickup_y   dropoff_x  \\\n",
       "0 2034-06-07 20:47:00                   1  135.428113  321.190773  141.317712   \n",
       "1 2034-04-14 08:00:00                   1  148.781291  322.565536  157.145868   \n",
       "2 2034-04-20 18:57:00                   2  124.000006  313.347763  131.362606   \n",
       "3 2034-04-28 22:40:00                   1  124.288413  316.495404  143.284350   \n",
       "4 2034-05-28 11:39:00                   1  177.344861  358.087844  168.709489   \n",
       "\n",
       "    dropoff_y  Month  DayofMonth  Hour  dayofweek  \n",
       "0  321.357802      6           7    20          2  \n",
       "1  337.052655      4          14     8          4  \n",
       "2  300.613585      4          20    18          3  \n",
       "3  334.542116      4          28    22          4  \n",
       "4  363.038196      5          28    11          6  "
      ]
     },
     "execution_count": 14,
     "metadata": {},
     "output_type": "execute_result"
    }
   ],
   "source": [
    "test.head()"
   ]
  },
  {
   "cell_type": "markdown",
   "metadata": {},
   "source": [
    "# features :\n",
    "1) Day of the week - weekday/weekend\n",
    "2) Time of the day - \n",
    "3) Distance between point a and point b\n",
    "4) Pickup location - congestion or non congestion\n",
    "5) Locality - Clusters\n",
    "6) Weather - Temperature - will be unknown for Gotham City"
   ]
  },
  {
   "cell_type": "code",
   "execution_count": 15,
   "metadata": {},
   "outputs": [],
   "source": [
    "def rushhour(df):\n",
    "  if df['Hour'] <= 6:\n",
    "    return(1)\n",
    "  elif df['Hour'] <= 12:\n",
    "    return(2)\n",
    "  elif df['Hour'] <=18:\n",
    "    return(3)\n",
    "  else:\n",
    "    return(4)"
   ]
  },
  {
   "cell_type": "code",
   "execution_count": 16,
   "metadata": {},
   "outputs": [],
   "source": [
    "# rush vs non-rush hour\n",
    "train['rushhr']= train.apply(rushhour, axis=1)\n",
    "test['rushhr']= test.apply(rushhour, axis=1)"
   ]
  },
  {
   "cell_type": "code",
   "execution_count": 17,
   "metadata": {},
   "outputs": [],
   "source": [
    "#Weekday/Weekend\n",
    "def weekdayend(df):\n",
    "  if (df['dayofweek'] == 1) or (df['dayofweek'] == 2) or (df['dayofweek'] == 3) or (df['dayofweek'] == 7):\n",
    "    return(0)\n",
    "  else:\n",
    "    return(1)"
   ]
  },
  {
   "cell_type": "code",
   "execution_count": 18,
   "metadata": {},
   "outputs": [],
   "source": [
    "train['weekendweekday']= train.apply(weekdayend, axis=1)\n",
    "test['weekendweekday']= test.apply(weekdayend, axis=1)"
   ]
  },
  {
   "cell_type": "code",
   "execution_count": 19,
   "metadata": {},
   "outputs": [],
   "source": [
    "time_train = pd.DataFrame(index = range(len(train)))\n",
    "time_test = pd.DataFrame(index = range(len(test)))"
   ]
  },
  {
   "cell_type": "code",
   "execution_count": 20,
   "metadata": {},
   "outputs": [],
   "source": [
    "#calculate the route distance - haversine distance"
   ]
  },
  {
   "cell_type": "code",
   "execution_count": 21,
   "metadata": {},
   "outputs": [],
   "source": [
    "def haversine_array(lat1, lng1, lat2, lng2):\n",
    "    lat1, lng1, lat2, lng2 = map(np.radians, (lat1, lng1, lat2, lng2))\n",
    "    AVG_EARTH_RADIUS = 6371  # in km\n",
    "    lat = lat2 - lat1\n",
    "    lng = lng2 - lng1\n",
    "    d = np.sin(lat * 0.5) ** 2 + np.cos(lat1) * np.cos(lat2) * np.sin(lng * 0.5) ** 2\n",
    "    h = 2 * AVG_EARTH_RADIUS * np.arcsin(np.sqrt(d))\n",
    "    return h"
   ]
  },
  {
   "cell_type": "code",
   "execution_count": 22,
   "metadata": {},
   "outputs": [],
   "source": [
    "def dummy_distance(lat1, lng1, lat2, lng2):\n",
    "    a = haversine_array(lat1, lng1, lat1, lng2)\n",
    "    b = haversine_array(lat1, lng1, lat2, lng1)\n",
    "    return(a+b)"
   ]
  },
  {
   "cell_type": "code",
   "execution_count": 23,
   "metadata": {},
   "outputs": [],
   "source": [
    "def bearing_array(lat1, lng1, lat2, lng2):\n",
    "    lng_delta_rad = np.radians(lng2 - lng1)\n",
    "    lat1, lng1, lat2, lng2 = map(np.radians, (lat1, lng1, lat2, lng2))\n",
    "    y = np.sin(lng_delta_rad) * np.cos(lat2)\n",
    "    x = np.cos(lat1) * np.sin(lat2) - np.sin(lat1) * np.cos(lat2) * np.cos(lng_delta_rad)\n",
    "    return np.degrees(np.arctan2(y, x))"
   ]
  },
  {
   "cell_type": "code",
   "execution_count": 24,
   "metadata": {},
   "outputs": [],
   "source": [
    "List_dist = []\n",
    "for df in (train,test):\n",
    "    lat1, lng1, lat2, lng2 = (df['pickup_x'].values, df['pickup_y'].values, \n",
    "                              df['dropoff_x'].values,df['dropoff_y'].values)\n",
    "    dist = pd.DataFrame(index=range(len(df)))\n",
    "    dist = dist.assign(haversind_dist = haversine_array(lat1, lng1, lat2, lng2))\n",
    "    dist = dist.assign(dist = dummy_distance(lat1, lng1, lat2, lng2))\n",
    "    dist = dist.assign(bearing = bearing_array(lat1, lng1, lat2, lng2))\n",
    "    List_dist.append(dist)\n",
    "\n",
    "Other_dist_train,Other_dist_test = List_dist"
   ]
  },
  {
   "cell_type": "code",
   "execution_count": 25,
   "metadata": {},
   "outputs": [
    {
     "data": {
      "text/html": [
       "<div>\n",
       "<style scoped>\n",
       "    .dataframe tbody tr th:only-of-type {\n",
       "        vertical-align: middle;\n",
       "    }\n",
       "\n",
       "    .dataframe tbody tr th {\n",
       "        vertical-align: top;\n",
       "    }\n",
       "\n",
       "    .dataframe thead th {\n",
       "        text-align: right;\n",
       "    }\n",
       "</style>\n",
       "<table border=\"1\" class=\"dataframe\">\n",
       "  <thead>\n",
       "    <tr style=\"text-align: right;\">\n",
       "      <th></th>\n",
       "      <th>haversind_dist</th>\n",
       "      <th>dist</th>\n",
       "      <th>bearing</th>\n",
       "    </tr>\n",
       "  </thead>\n",
       "  <tbody>\n",
       "    <tr>\n",
       "      <th>0</th>\n",
       "      <td>655.040130</td>\n",
       "      <td>668.124130</td>\n",
       "      <td>-1.270497</td>\n",
       "    </tr>\n",
       "    <tr>\n",
       "      <th>1</th>\n",
       "      <td>1707.360189</td>\n",
       "      <td>2306.736966</td>\n",
       "      <td>-60.526185</td>\n",
       "    </tr>\n",
       "    <tr>\n",
       "      <th>2</th>\n",
       "      <td>1187.963955</td>\n",
       "      <td>1609.366342</td>\n",
       "      <td>51.788604</td>\n",
       "    </tr>\n",
       "    <tr>\n",
       "      <th>3</th>\n",
       "      <td>2511.100400</td>\n",
       "      <td>3239.548629</td>\n",
       "      <td>-40.290921</td>\n",
       "    </tr>\n",
       "    <tr>\n",
       "      <th>4</th>\n",
       "      <td>1104.510303</td>\n",
       "      <td>1510.072294</td>\n",
       "      <td>-150.621927</td>\n",
       "    </tr>\n",
       "    <tr>\n",
       "      <th>5</th>\n",
       "      <td>1752.672945</td>\n",
       "      <td>2411.856454</td>\n",
       "      <td>-48.013575</td>\n",
       "    </tr>\n",
       "    <tr>\n",
       "      <th>6</th>\n",
       "      <td>519.275460</td>\n",
       "      <td>681.597694</td>\n",
       "      <td>-160.517251</td>\n",
       "    </tr>\n",
       "    <tr>\n",
       "      <th>7</th>\n",
       "      <td>3713.962020</td>\n",
       "      <td>4762.913727</td>\n",
       "      <td>-111.348973</td>\n",
       "    </tr>\n",
       "    <tr>\n",
       "      <th>8</th>\n",
       "      <td>1486.863649</td>\n",
       "      <td>1503.694497</td>\n",
       "      <td>-179.420333</td>\n",
       "    </tr>\n",
       "    <tr>\n",
       "      <th>9</th>\n",
       "      <td>4799.164101</td>\n",
       "      <td>6681.580790</td>\n",
       "      <td>-56.805896</td>\n",
       "    </tr>\n",
       "    <tr>\n",
       "      <th>10</th>\n",
       "      <td>3735.620346</td>\n",
       "      <td>4365.203998</td>\n",
       "      <td>-19.589388</td>\n",
       "    </tr>\n",
       "    <tr>\n",
       "      <th>11</th>\n",
       "      <td>2983.069905</td>\n",
       "      <td>3836.649268</td>\n",
       "      <td>113.540972</td>\n",
       "    </tr>\n",
       "    <tr>\n",
       "      <th>12</th>\n",
       "      <td>4048.095707</td>\n",
       "      <td>6008.513919</td>\n",
       "      <td>-168.275806</td>\n",
       "    </tr>\n",
       "    <tr>\n",
       "      <th>13</th>\n",
       "      <td>1375.074521</td>\n",
       "      <td>1844.102002</td>\n",
       "      <td>62.763394</td>\n",
       "    </tr>\n",
       "    <tr>\n",
       "      <th>14</th>\n",
       "      <td>3503.743732</td>\n",
       "      <td>4337.378957</td>\n",
       "      <td>-28.612770</td>\n",
       "    </tr>\n",
       "    <tr>\n",
       "      <th>15</th>\n",
       "      <td>6594.949917</td>\n",
       "      <td>33248.313471</td>\n",
       "      <td>30.046566</td>\n",
       "    </tr>\n",
       "    <tr>\n",
       "      <th>16</th>\n",
       "      <td>6997.916562</td>\n",
       "      <td>10029.572630</td>\n",
       "      <td>170.894441</td>\n",
       "    </tr>\n",
       "    <tr>\n",
       "      <th>17</th>\n",
       "      <td>2158.942259</td>\n",
       "      <td>2535.434600</td>\n",
       "      <td>-106.105645</td>\n",
       "    </tr>\n",
       "    <tr>\n",
       "      <th>18</th>\n",
       "      <td>1268.767198</td>\n",
       "      <td>1763.028852</td>\n",
       "      <td>-122.483106</td>\n",
       "    </tr>\n",
       "    <tr>\n",
       "      <th>19</th>\n",
       "      <td>1858.083781</td>\n",
       "      <td>2634.246950</td>\n",
       "      <td>-131.317306</td>\n",
       "    </tr>\n",
       "    <tr>\n",
       "      <th>20</th>\n",
       "      <td>2040.777347</td>\n",
       "      <td>2168.229233</td>\n",
       "      <td>-5.129855</td>\n",
       "    </tr>\n",
       "    <tr>\n",
       "      <th>21</th>\n",
       "      <td>5525.968852</td>\n",
       "      <td>6689.334358</td>\n",
       "      <td>76.001840</td>\n",
       "    </tr>\n",
       "    <tr>\n",
       "      <th>22</th>\n",
       "      <td>2721.665612</td>\n",
       "      <td>2950.987526</td>\n",
       "      <td>-175.300979</td>\n",
       "    </tr>\n",
       "    <tr>\n",
       "      <th>23</th>\n",
       "      <td>5457.777924</td>\n",
       "      <td>6652.664975</td>\n",
       "      <td>-74.703064</td>\n",
       "    </tr>\n",
       "    <tr>\n",
       "      <th>24</th>\n",
       "      <td>3564.545487</td>\n",
       "      <td>5358.835446</td>\n",
       "      <td>136.986180</td>\n",
       "    </tr>\n",
       "    <tr>\n",
       "      <th>25</th>\n",
       "      <td>2779.024472</td>\n",
       "      <td>3888.694919</td>\n",
       "      <td>124.053297</td>\n",
       "    </tr>\n",
       "    <tr>\n",
       "      <th>26</th>\n",
       "      <td>3880.686771</td>\n",
       "      <td>6091.770763</td>\n",
       "      <td>146.802786</td>\n",
       "    </tr>\n",
       "    <tr>\n",
       "      <th>27</th>\n",
       "      <td>4791.857762</td>\n",
       "      <td>6009.450003</td>\n",
       "      <td>-60.882244</td>\n",
       "    </tr>\n",
       "    <tr>\n",
       "      <th>28</th>\n",
       "      <td>7870.519638</td>\n",
       "      <td>10139.864862</td>\n",
       "      <td>-59.433261</td>\n",
       "    </tr>\n",
       "    <tr>\n",
       "      <th>29</th>\n",
       "      <td>274.802628</td>\n",
       "      <td>367.131288</td>\n",
       "      <td>26.590836</td>\n",
       "    </tr>\n",
       "    <tr>\n",
       "      <th>...</th>\n",
       "      <td>...</td>\n",
       "      <td>...</td>\n",
       "      <td>...</td>\n",
       "    </tr>\n",
       "    <tr>\n",
       "      <th>999970</th>\n",
       "      <td>1289.153041</td>\n",
       "      <td>1828.328338</td>\n",
       "      <td>-146.518338</td>\n",
       "    </tr>\n",
       "    <tr>\n",
       "      <th>999971</th>\n",
       "      <td>3932.264215</td>\n",
       "      <td>5288.770216</td>\n",
       "      <td>-47.721390</td>\n",
       "    </tr>\n",
       "    <tr>\n",
       "      <th>999972</th>\n",
       "      <td>2332.957052</td>\n",
       "      <td>3430.766303</td>\n",
       "      <td>138.155004</td>\n",
       "    </tr>\n",
       "    <tr>\n",
       "      <th>999973</th>\n",
       "      <td>1388.949843</td>\n",
       "      <td>1828.288790</td>\n",
       "      <td>-64.398673</td>\n",
       "    </tr>\n",
       "    <tr>\n",
       "      <th>999974</th>\n",
       "      <td>1187.545974</td>\n",
       "      <td>1562.643267</td>\n",
       "      <td>-28.841375</td>\n",
       "    </tr>\n",
       "    <tr>\n",
       "      <th>999975</th>\n",
       "      <td>1049.204349</td>\n",
       "      <td>1347.084613</td>\n",
       "      <td>110.964195</td>\n",
       "    </tr>\n",
       "    <tr>\n",
       "      <th>999976</th>\n",
       "      <td>412.614714</td>\n",
       "      <td>415.133479</td>\n",
       "      <td>-2.888428</td>\n",
       "    </tr>\n",
       "    <tr>\n",
       "      <th>999977</th>\n",
       "      <td>1649.400058</td>\n",
       "      <td>2214.426253</td>\n",
       "      <td>-63.200465</td>\n",
       "    </tr>\n",
       "    <tr>\n",
       "      <th>999978</th>\n",
       "      <td>2865.135733</td>\n",
       "      <td>3759.973840</td>\n",
       "      <td>-58.004503</td>\n",
       "    </tr>\n",
       "    <tr>\n",
       "      <th>999979</th>\n",
       "      <td>977.473312</td>\n",
       "      <td>1423.455375</td>\n",
       "      <td>135.881488</td>\n",
       "    </tr>\n",
       "    <tr>\n",
       "      <th>999980</th>\n",
       "      <td>2217.046151</td>\n",
       "      <td>3011.168626</td>\n",
       "      <td>-43.383729</td>\n",
       "    </tr>\n",
       "    <tr>\n",
       "      <th>999981</th>\n",
       "      <td>2492.466847</td>\n",
       "      <td>3715.110095</td>\n",
       "      <td>141.866031</td>\n",
       "    </tr>\n",
       "    <tr>\n",
       "      <th>999982</th>\n",
       "      <td>3109.858725</td>\n",
       "      <td>4111.140982</td>\n",
       "      <td>-53.998855</td>\n",
       "    </tr>\n",
       "    <tr>\n",
       "      <th>999983</th>\n",
       "      <td>4726.896033</td>\n",
       "      <td>5065.596005</td>\n",
       "      <td>-178.864580</td>\n",
       "    </tr>\n",
       "    <tr>\n",
       "      <th>999984</th>\n",
       "      <td>4056.017681</td>\n",
       "      <td>4616.522604</td>\n",
       "      <td>-20.667937</td>\n",
       "    </tr>\n",
       "    <tr>\n",
       "      <th>999985</th>\n",
       "      <td>2573.334877</td>\n",
       "      <td>3625.396373</td>\n",
       "      <td>129.803366</td>\n",
       "    </tr>\n",
       "    <tr>\n",
       "      <th>999986</th>\n",
       "      <td>5904.350439</td>\n",
       "      <td>6956.185964</td>\n",
       "      <td>20.864544</td>\n",
       "    </tr>\n",
       "    <tr>\n",
       "      <th>999987</th>\n",
       "      <td>1347.628451</td>\n",
       "      <td>1483.394946</td>\n",
       "      <td>86.074811</td>\n",
       "    </tr>\n",
       "    <tr>\n",
       "      <th>999988</th>\n",
       "      <td>1346.165002</td>\n",
       "      <td>1875.912227</td>\n",
       "      <td>-45.615021</td>\n",
       "    </tr>\n",
       "    <tr>\n",
       "      <th>999989</th>\n",
       "      <td>7076.936943</td>\n",
       "      <td>11037.283621</td>\n",
       "      <td>-138.836090</td>\n",
       "    </tr>\n",
       "    <tr>\n",
       "      <th>999990</th>\n",
       "      <td>3338.558818</td>\n",
       "      <td>4872.222816</td>\n",
       "      <td>158.424532</td>\n",
       "    </tr>\n",
       "    <tr>\n",
       "      <th>999991</th>\n",
       "      <td>4012.751903</td>\n",
       "      <td>5706.560399</td>\n",
       "      <td>146.175096</td>\n",
       "    </tr>\n",
       "    <tr>\n",
       "      <th>999992</th>\n",
       "      <td>1600.023753</td>\n",
       "      <td>1911.239059</td>\n",
       "      <td>-78.947746</td>\n",
       "    </tr>\n",
       "    <tr>\n",
       "      <th>999993</th>\n",
       "      <td>10292.465065</td>\n",
       "      <td>13145.619917</td>\n",
       "      <td>-56.242486</td>\n",
       "    </tr>\n",
       "    <tr>\n",
       "      <th>999994</th>\n",
       "      <td>2019.733081</td>\n",
       "      <td>2564.454073</td>\n",
       "      <td>-72.714414</td>\n",
       "    </tr>\n",
       "    <tr>\n",
       "      <th>999995</th>\n",
       "      <td>2368.249865</td>\n",
       "      <td>2819.591639</td>\n",
       "      <td>168.537487</td>\n",
       "    </tr>\n",
       "    <tr>\n",
       "      <th>999996</th>\n",
       "      <td>942.270440</td>\n",
       "      <td>1295.198863</td>\n",
       "      <td>-120.786865</td>\n",
       "    </tr>\n",
       "    <tr>\n",
       "      <th>999997</th>\n",
       "      <td>901.572301</td>\n",
       "      <td>1246.183607</td>\n",
       "      <td>-38.829266</td>\n",
       "    </tr>\n",
       "    <tr>\n",
       "      <th>999998</th>\n",
       "      <td>457.128250</td>\n",
       "      <td>463.875979</td>\n",
       "      <td>0.893059</td>\n",
       "    </tr>\n",
       "    <tr>\n",
       "      <th>999999</th>\n",
       "      <td>2984.777223</td>\n",
       "      <td>3859.350856</td>\n",
       "      <td>-52.626046</td>\n",
       "    </tr>\n",
       "  </tbody>\n",
       "</table>\n",
       "<p>1000000 rows × 3 columns</p>\n",
       "</div>"
      ],
      "text/plain": [
       "        haversind_dist          dist     bearing\n",
       "0           655.040130    668.124130   -1.270497\n",
       "1          1707.360189   2306.736966  -60.526185\n",
       "2          1187.963955   1609.366342   51.788604\n",
       "3          2511.100400   3239.548629  -40.290921\n",
       "4          1104.510303   1510.072294 -150.621927\n",
       "5          1752.672945   2411.856454  -48.013575\n",
       "6           519.275460    681.597694 -160.517251\n",
       "7          3713.962020   4762.913727 -111.348973\n",
       "8          1486.863649   1503.694497 -179.420333\n",
       "9          4799.164101   6681.580790  -56.805896\n",
       "10         3735.620346   4365.203998  -19.589388\n",
       "11         2983.069905   3836.649268  113.540972\n",
       "12         4048.095707   6008.513919 -168.275806\n",
       "13         1375.074521   1844.102002   62.763394\n",
       "14         3503.743732   4337.378957  -28.612770\n",
       "15         6594.949917  33248.313471   30.046566\n",
       "16         6997.916562  10029.572630  170.894441\n",
       "17         2158.942259   2535.434600 -106.105645\n",
       "18         1268.767198   1763.028852 -122.483106\n",
       "19         1858.083781   2634.246950 -131.317306\n",
       "20         2040.777347   2168.229233   -5.129855\n",
       "21         5525.968852   6689.334358   76.001840\n",
       "22         2721.665612   2950.987526 -175.300979\n",
       "23         5457.777924   6652.664975  -74.703064\n",
       "24         3564.545487   5358.835446  136.986180\n",
       "25         2779.024472   3888.694919  124.053297\n",
       "26         3880.686771   6091.770763  146.802786\n",
       "27         4791.857762   6009.450003  -60.882244\n",
       "28         7870.519638  10139.864862  -59.433261\n",
       "29          274.802628    367.131288   26.590836\n",
       "...                ...           ...         ...\n",
       "999970     1289.153041   1828.328338 -146.518338\n",
       "999971     3932.264215   5288.770216  -47.721390\n",
       "999972     2332.957052   3430.766303  138.155004\n",
       "999973     1388.949843   1828.288790  -64.398673\n",
       "999974     1187.545974   1562.643267  -28.841375\n",
       "999975     1049.204349   1347.084613  110.964195\n",
       "999976      412.614714    415.133479   -2.888428\n",
       "999977     1649.400058   2214.426253  -63.200465\n",
       "999978     2865.135733   3759.973840  -58.004503\n",
       "999979      977.473312   1423.455375  135.881488\n",
       "999980     2217.046151   3011.168626  -43.383729\n",
       "999981     2492.466847   3715.110095  141.866031\n",
       "999982     3109.858725   4111.140982  -53.998855\n",
       "999983     4726.896033   5065.596005 -178.864580\n",
       "999984     4056.017681   4616.522604  -20.667937\n",
       "999985     2573.334877   3625.396373  129.803366\n",
       "999986     5904.350439   6956.185964   20.864544\n",
       "999987     1347.628451   1483.394946   86.074811\n",
       "999988     1346.165002   1875.912227  -45.615021\n",
       "999989     7076.936943  11037.283621 -138.836090\n",
       "999990     3338.558818   4872.222816  158.424532\n",
       "999991     4012.751903   5706.560399  146.175096\n",
       "999992     1600.023753   1911.239059  -78.947746\n",
       "999993    10292.465065  13145.619917  -56.242486\n",
       "999994     2019.733081   2564.454073  -72.714414\n",
       "999995     2368.249865   2819.591639  168.537487\n",
       "999996      942.270440   1295.198863 -120.786865\n",
       "999997      901.572301   1246.183607  -38.829266\n",
       "999998      457.128250    463.875979    0.893059\n",
       "999999     2984.777223   3859.350856  -52.626046\n",
       "\n",
       "[1000000 rows x 3 columns]"
      ]
     },
     "execution_count": 25,
     "metadata": {},
     "output_type": "execute_result"
    }
   ],
   "source": [
    "Other_dist_train"
   ]
  },
  {
   "cell_type": "code",
   "execution_count": 26,
   "metadata": {},
   "outputs": [],
   "source": [
    "train['Distance'] = Other_dist_train['dist']\n",
    "test['Distance'] = Other_dist_test['dist']"
   ]
  },
  {
   "cell_type": "markdown",
   "metadata": {},
   "source": [
    "# K-Means clustering of coordinates"
   ]
  },
  {
   "cell_type": "code",
   "execution_count": 27,
   "metadata": {},
   "outputs": [],
   "source": [
    "coord_pickup = np.vstack((train[['pickup_x', 'pickup_y']].values,                  \n",
    "                          test[['pickup_x', 'pickup_y']].values))\n",
    "coord_dropoff = np.vstack((train[['dropoff_x', 'dropoff_y']].values,                  \n",
    "                           test[['dropoff_x', 'dropoff_y']].values))"
   ]
  },
  {
   "cell_type": "code",
   "execution_count": 28,
   "metadata": {},
   "outputs": [],
   "source": [
    "coords = np.hstack((coord_pickup,coord_dropoff))# 4 dimensional data\n",
    "sample_ind = np.random.permutation(len(coords))[:500000]\n",
    "kmeans = MiniBatchKMeans(n_clusters=10, batch_size=10000).fit(coords[sample_ind])\n",
    "for df in (train,test):\n",
    "    df.loc[:, 'pickup_dropoff_loc'] = kmeans.predict(df[['pickup_x', 'pickup_y',\n",
    "                                                         'dropoff_x','dropoff_y']])"
   ]
  },
  {
   "cell_type": "code",
   "execution_count": 29,
   "metadata": {},
   "outputs": [],
   "source": [
    "kmean10_train = train[['pickup_dropoff_loc']]\n",
    "kmean10_test = test[['pickup_dropoff_loc']]"
   ]
  },
  {
   "cell_type": "code",
   "execution_count": 30,
   "metadata": {},
   "outputs": [
    {
     "data": {
      "text/html": [
       "<div>\n",
       "<style scoped>\n",
       "    .dataframe tbody tr th:only-of-type {\n",
       "        vertical-align: middle;\n",
       "    }\n",
       "\n",
       "    .dataframe tbody tr th {\n",
       "        vertical-align: top;\n",
       "    }\n",
       "\n",
       "    .dataframe thead th {\n",
       "        text-align: right;\n",
       "    }\n",
       "</style>\n",
       "<table border=\"1\" class=\"dataframe\">\n",
       "  <thead>\n",
       "    <tr style=\"text-align: right;\">\n",
       "      <th></th>\n",
       "      <th>pickup_datetime</th>\n",
       "      <th>NumberOfPassengers</th>\n",
       "      <th>duration</th>\n",
       "      <th>pickup_x</th>\n",
       "      <th>pickup_y</th>\n",
       "      <th>dropoff_x</th>\n",
       "      <th>dropoff_y</th>\n",
       "      <th>Month</th>\n",
       "      <th>DayofMonth</th>\n",
       "      <th>Hour</th>\n",
       "      <th>dayofweek</th>\n",
       "      <th>log_duration</th>\n",
       "      <th>rushhr</th>\n",
       "      <th>weekendweekday</th>\n",
       "      <th>Distance</th>\n",
       "      <th>pickup_dropoff_loc</th>\n",
       "    </tr>\n",
       "  </thead>\n",
       "  <tbody>\n",
       "    <tr>\n",
       "      <th>0</th>\n",
       "      <td>2034-06-07 20:47:29</td>\n",
       "      <td>1</td>\n",
       "      <td>434</td>\n",
       "      <td>135.428113</td>\n",
       "      <td>321.190773</td>\n",
       "      <td>141.317712</td>\n",
       "      <td>321.357802</td>\n",
       "      <td>6</td>\n",
       "      <td>7</td>\n",
       "      <td>20</td>\n",
       "      <td>2</td>\n",
       "      <td>6.075346</td>\n",
       "      <td>4</td>\n",
       "      <td>0</td>\n",
       "      <td>668.124130</td>\n",
       "      <td>1</td>\n",
       "    </tr>\n",
       "    <tr>\n",
       "      <th>1</th>\n",
       "      <td>2034-04-14 08:00:21</td>\n",
       "      <td>1</td>\n",
       "      <td>415</td>\n",
       "      <td>148.781291</td>\n",
       "      <td>322.565536</td>\n",
       "      <td>157.145868</td>\n",
       "      <td>337.052655</td>\n",
       "      <td>4</td>\n",
       "      <td>14</td>\n",
       "      <td>8</td>\n",
       "      <td>4</td>\n",
       "      <td>6.030685</td>\n",
       "      <td>2</td>\n",
       "      <td>1</td>\n",
       "      <td>2306.736966</td>\n",
       "      <td>6</td>\n",
       "    </tr>\n",
       "    <tr>\n",
       "      <th>2</th>\n",
       "      <td>2034-04-20 18:57:16</td>\n",
       "      <td>2</td>\n",
       "      <td>398</td>\n",
       "      <td>124.000006</td>\n",
       "      <td>313.347763</td>\n",
       "      <td>131.362606</td>\n",
       "      <td>300.613585</td>\n",
       "      <td>4</td>\n",
       "      <td>20</td>\n",
       "      <td>18</td>\n",
       "      <td>3</td>\n",
       "      <td>5.988961</td>\n",
       "      <td>3</td>\n",
       "      <td>0</td>\n",
       "      <td>1609.366342</td>\n",
       "      <td>1</td>\n",
       "    </tr>\n",
       "    <tr>\n",
       "      <th>3</th>\n",
       "      <td>2034-04-28 22:40:52</td>\n",
       "      <td>1</td>\n",
       "      <td>746</td>\n",
       "      <td>124.288413</td>\n",
       "      <td>316.495404</td>\n",
       "      <td>143.284351</td>\n",
       "      <td>334.542116</td>\n",
       "      <td>4</td>\n",
       "      <td>28</td>\n",
       "      <td>22</td>\n",
       "      <td>4</td>\n",
       "      <td>6.616065</td>\n",
       "      <td>4</td>\n",
       "      <td>1</td>\n",
       "      <td>3239.548629</td>\n",
       "      <td>1</td>\n",
       "    </tr>\n",
       "    <tr>\n",
       "      <th>4</th>\n",
       "      <td>2034-05-28 11:39:56</td>\n",
       "      <td>1</td>\n",
       "      <td>102</td>\n",
       "      <td>177.344861</td>\n",
       "      <td>358.087844</td>\n",
       "      <td>168.709489</td>\n",
       "      <td>363.038196</td>\n",
       "      <td>5</td>\n",
       "      <td>28</td>\n",
       "      <td>11</td>\n",
       "      <td>6</td>\n",
       "      <td>4.634729</td>\n",
       "      <td>2</td>\n",
       "      <td>1</td>\n",
       "      <td>1510.072294</td>\n",
       "      <td>0</td>\n",
       "    </tr>\n",
       "  </tbody>\n",
       "</table>\n",
       "</div>"
      ],
      "text/plain": [
       "      pickup_datetime  NumberOfPassengers  duration    pickup_x    pickup_y  \\\n",
       "0 2034-06-07 20:47:29                   1       434  135.428113  321.190773   \n",
       "1 2034-04-14 08:00:21                   1       415  148.781291  322.565536   \n",
       "2 2034-04-20 18:57:16                   2       398  124.000006  313.347763   \n",
       "3 2034-04-28 22:40:52                   1       746  124.288413  316.495404   \n",
       "4 2034-05-28 11:39:56                   1       102  177.344861  358.087844   \n",
       "\n",
       "    dropoff_x   dropoff_y  Month  DayofMonth  Hour  dayofweek  log_duration  \\\n",
       "0  141.317712  321.357802      6           7    20          2      6.075346   \n",
       "1  157.145868  337.052655      4          14     8          4      6.030685   \n",
       "2  131.362606  300.613585      4          20    18          3      5.988961   \n",
       "3  143.284351  334.542116      4          28    22          4      6.616065   \n",
       "4  168.709489  363.038196      5          28    11          6      4.634729   \n",
       "\n",
       "   rushhr  weekendweekday     Distance  pickup_dropoff_loc  \n",
       "0       4               0   668.124130                   1  \n",
       "1       2               1  2306.736966                   6  \n",
       "2       3               0  1609.366342                   1  \n",
       "3       4               1  3239.548629                   1  \n",
       "4       2               1  1510.072294                   0  "
      ]
     },
     "execution_count": 30,
     "metadata": {},
     "output_type": "execute_result"
    }
   ],
   "source": [
    "train.head()"
   ]
  },
  {
   "cell_type": "code",
   "execution_count": 31,
   "metadata": {},
   "outputs": [
    {
     "data": {
      "image/png": "[encoded data removed]",
      "text/plain": [
       "<Figure size 1152x1152 with 10 Axes>"
      ]
     },
     "metadata": {
      "needs_background": "light"
     },
     "output_type": "display_data"
    }
   ],
   "source": [
    "plt.figure(figsize=(16,16))\n",
    "N = 500\n",
    "for i in range(10):\n",
    "    plt.subplot(4,3,i+1)\n",
    "    tmp_data = train[train.pickup_dropoff_loc==i]\n",
    "    drop = plt.scatter(tmp_data['dropoff_x'][:N], tmp_data['dropoff_y'][:N], s=10, lw=0, alpha=0.5,label='dropoff')\n",
    "    pick = plt.scatter(tmp_data['pickup_x'][:N], tmp_data['pickup_y'][:N], s=10, lw=0, alpha=0.4,label='pickup')    \n",
    "    plt.legend(handles = [pick,drop])\n",
    "    plt.title('clusters %d'%i)\n",
    "#plt.axes().set_aspect('equal')"
   ]
  },
  {
   "cell_type": "markdown",
   "metadata": {},
   "source": [
    "#Check Outliers"
   ]
  },
  {
   "cell_type": "code",
   "execution_count": 32,
   "metadata": {},
   "outputs": [
    {
     "data": {
      "text/plain": [
       "Text(0, 0.5, 'frequency')"
      ]
     },
     "execution_count": 32,
     "metadata": {},
     "output_type": "execute_result"
    },
    {
     "data": {
      "image/png": "[encoded data removed]",
      "text/plain": [
       "<Figure size 432x288 with 3 Axes>"
      ]
     },
     "metadata": {
      "needs_background": "light"
     },
     "output_type": "display_data"
    }
   ],
   "source": [
    "y = np.array(train.duration)\n",
    "plt.subplot(131)\n",
    "plt.plot(range(len(y)),y,'.');plt.ylabel('duration');plt.xlabel('index');plt.title('val vs. index')\n",
    "plt.subplot(132)\n",
    "sns.boxplot(y=train.duration)\n",
    "plt.subplot(133)\n",
    "sns.distplot(y,bins=50, color=\"m\");plt.yticks([]);plt.xlabel('duration');plt.title('data');plt.ylabel('frequency')\n",
    "#plt.hist(y,bins=50);"
   ]
  },
  {
   "cell_type": "markdown",
   "metadata": {},
   "source": [
    "#Outliers - Trip Duration"
   ]
  },
  {
   "cell_type": "code",
   "execution_count": 33,
   "metadata": {},
   "outputs": [],
   "source": [
    "y = np.array(train.duration)"
   ]
  },
  {
   "cell_type": "code",
   "execution_count": 34,
   "metadata": {},
   "outputs": [],
   "source": [
    "outliers_trip_duration=np.array([False]*len(train))"
   ]
  },
  {
   "cell_type": "code",
   "execution_count": 35,
   "metadata": {},
   "outputs": [],
   "source": [
    "outliers_trip_duration[y<30] = True"
   ]
  },
  {
   "cell_type": "code",
   "execution_count": 36,
   "metadata": {},
   "outputs": [
    {
     "data": {
      "text/plain": [
       "3811"
      ]
     },
     "execution_count": 36,
     "metadata": {},
     "output_type": "execute_result"
    }
   ],
   "source": [
    "sum(outliers_trip_duration)"
   ]
  },
  {
   "cell_type": "code",
   "execution_count": 37,
   "metadata": {},
   "outputs": [],
   "source": [
    "train['outliers_trip_duration'] = outliers_trip_duration"
   ]
  },
  {
   "cell_type": "code",
   "execution_count": 38,
   "metadata": {},
   "outputs": [
    {
     "data": {
      "text/plain": [
       "(1000000, 17)"
      ]
     },
     "execution_count": 38,
     "metadata": {},
     "output_type": "execute_result"
    }
   ],
   "source": [
    "train.shape"
   ]
  },
  {
   "cell_type": "code",
   "execution_count": 39,
   "metadata": {},
   "outputs": [],
   "source": [
    "#Drop trip_duration outliers\n",
    "# Get names of indexes for which column outlier_trip_duration has value 'True'\n",
    "indexNames = train[ train['outliers_trip_duration'] == True ].index\n",
    " \n",
    "# Delete these row indexes from dataFrame\n",
    "train.drop(indexNames , inplace=True)"
   ]
  },
  {
   "cell_type": "markdown",
   "metadata": {},
   "source": [
    "#Outliers-Speed"
   ]
  },
  {
   "cell_type": "code",
   "execution_count": 40,
   "metadata": {},
   "outputs": [],
   "source": [
    "kph = train.Distance/1000/train.duration*3600"
   ]
  },
  {
   "cell_type": "code",
   "execution_count": 41,
   "metadata": {},
   "outputs": [
    {
     "data": {
      "image/png": "[encoded data removed]",
      "text/plain": [
       "<Figure size 432x288 with 1 Axes>"
      ]
     },
     "metadata": {
      "needs_background": "light"
     },
     "output_type": "display_data"
    }
   ],
   "source": [
    "plt.plot(range(len(kph)),kph,'.');plt.ylabel('kph');plt.xlabel('index');plt.show()"
   ]
  },
  {
   "cell_type": "code",
   "execution_count": 42,
   "metadata": {},
   "outputs": [],
   "source": [
    "outliers_speed=np.array([False]*len(train))"
   ]
  },
  {
   "cell_type": "code",
   "execution_count": 43,
   "metadata": {},
   "outputs": [],
   "source": [
    "outliers_speed[kph>120] = True"
   ]
  },
  {
   "cell_type": "code",
   "execution_count": 44,
   "metadata": {},
   "outputs": [
    {
     "data": {
      "text/plain": [
       "65"
      ]
     },
     "execution_count": 44,
     "metadata": {},
     "output_type": "execute_result"
    }
   ],
   "source": [
    "sum(outliers_speed)"
   ]
  },
  {
   "cell_type": "code",
   "execution_count": 45,
   "metadata": {},
   "outputs": [],
   "source": [
    "train['outliers_speed'] = outliers_speed"
   ]
  },
  {
   "cell_type": "code",
   "execution_count": 46,
   "metadata": {},
   "outputs": [
    {
     "data": {
      "text/plain": [
       "(996189, 18)"
      ]
     },
     "execution_count": 46,
     "metadata": {},
     "output_type": "execute_result"
    }
   ],
   "source": [
    "train.shape"
   ]
  },
  {
   "cell_type": "code",
   "execution_count": 47,
   "metadata": {},
   "outputs": [],
   "source": [
    "#Drop speed outliers\n",
    "# Get names of indexes for which column outlier_speed has value 'True'\n",
    "indexNames = train[train['outliers_speed'] == True ].index\n",
    " \n",
    "# Delete these row indexes from dataFrame\n",
    "train.drop(indexNames , inplace=True)"
   ]
  },
  {
   "cell_type": "markdown",
   "metadata": {},
   "source": [
    "#Modeling"
   ]
  },
  {
   "cell_type": "code",
   "execution_count": 48,
   "metadata": {},
   "outputs": [
    {
     "data": {
      "text/plain": [
       "<matplotlib.axes._subplots.AxesSubplot at 0x11eddd7b8>"
      ]
     },
     "execution_count": 48,
     "metadata": {},
     "output_type": "execute_result"
    },
    {
     "data": {
      "image/png": "[encoded data removed]",
      "text/plain": [
       "<Figure size 1152x720 with 2 Axes>"
      ]
     },
     "metadata": {
      "needs_background": "light"
     },
     "output_type": "display_data"
    }
   ],
   "source": [
    "plt.figure(figsize=(16,10))\n",
    "sns.heatmap(train.corr(),cmap='coolwarm',annot=True)"
   ]
  },
  {
   "cell_type": "code",
   "execution_count": 49,
   "metadata": {},
   "outputs": [],
   "source": [
    "traindf = train[['Distance','dayofweek','Hour', 'pickup_x', 'pickup_y', 'dropoff_x', 'dropoff_y'  ]]\n",
    "\n",
    "testdf = test[['Distance','dayofweek','Hour', 'pickup_x', 'pickup_y', 'dropoff_x', 'dropoff_y' ]]"
   ]
  },
  {
   "cell_type": "code",
   "execution_count": 58,
   "metadata": {},
   "outputs": [],
   "source": [
    "X = traindf\n",
    "z = train.log_duration.values\n",
    "#z = train.duration.values"
   ]
  },
  {
   "cell_type": "code",
   "execution_count": 52,
   "metadata": {},
   "outputs": [],
   "source": [
    "import xgboost as xgb"
   ]
  },
  {
   "cell_type": "code",
   "execution_count": 59,
   "metadata": {},
   "outputs": [],
   "source": [
    "from sklearn.model_selection import train_test_split\n",
    "\n",
    "#%% split training set to validation set\n",
    "Xtrain, Xval, Ztrain, Zval = train_test_split(X, z, test_size=0.2, random_state=0)\n",
    "Xcv,Xv,Zcv,Zv = train_test_split(Xval, Zval, test_size=0.5, random_state=1)\n",
    "data_tr  = xgb.DMatrix(Xtrain, label=Ztrain)\n",
    "data_cv  = xgb.DMatrix(Xcv   , label=Zcv)\n",
    "evallist = [(data_tr, 'train'), (data_cv, 'valid')]"
   ]
  },
  {
   "cell_type": "code",
   "execution_count": 54,
   "metadata": {},
   "outputs": [],
   "source": [
    "from sklearn.ensemble import RandomForestRegressor"
   ]
  },
  {
   "cell_type": "code",
   "execution_count": 60,
   "metadata": {},
   "outputs": [
    {
     "name": "stderr",
     "output_type": "stream",
     "text": [
      "/Users/pranidhiprabhat/anaconda3/lib/python3.7/site-packages/sklearn/ensemble/forest.py:245: FutureWarning: The default value of n_estimators will change from 10 in version 0.20 to 100 in 0.22.\n",
      "  \"10 in version 0.20 to 100 in 0.22.\", FutureWarning)\n"
     ]
    }
   ],
   "source": [
    "rand_forest_regressor = RandomForestRegressor()\n",
    "rand_forest_regressor.fit(Xtrain, Ztrain)\n",
    "\n",
    "y_rand_forest_predict = rand_forest_regressor.predict(Xval)\n",
    "random_forest_model_error = sqrt(mean_squared_error(np.expm1(Zval), np.expm1(y_rand_forest_predict)))"
   ]
  },
  {
   "cell_type": "code",
   "execution_count": 61,
   "metadata": {},
   "outputs": [
    {
     "name": "stdout",
     "output_type": "stream",
     "text": [
      " Random Forest Mean Squared Error - 258.51681922770354\n"
     ]
    }
   ],
   "source": [
    "print(f' Random Forest Mean Squared Error - {random_forest_model_error}')"
   ]
  },
  {
   "cell_type": "code",
   "execution_count": 70,
   "metadata": {},
   "outputs": [
    {
     "name": "stderr",
     "output_type": "stream",
     "text": [
      "/Users/pranidhiprabhat/anaconda3/lib/python3.7/site-packages/lightgbm/__init__.py:48: UserWarning: Starting from version 2.2.1, the library file in distribution wheels for macOS is built by the Apple Clang (Xcode_8.3.3) compiler.\n",
      "This means that in case of installing LightGBM from PyPI via the ``pip install lightgbm`` command, you don't need to install the gcc compiler anymore.\n",
      "Instead of that, you need to install the OpenMP library, which is required for running LightGBM on the system with the Apple Clang compiler.\n",
      "You can install the OpenMP library by the following command: ``brew install libomp``.\n",
      "  \"You can install the OpenMP library by the following command: ``brew install libomp``.\", UserWarning)\n"
     ]
    }
   ],
   "source": [
    "import lightgbm as lgb"
   ]
  },
  {
   "cell_type": "code",
   "execution_count": 71,
   "metadata": {},
   "outputs": [
    {
     "name": "stdout",
     "output_type": "stream",
     "text": [
      "LGBM Mean Squared Error - 255.1416064712437\n"
     ]
    }
   ],
   "source": [
    "lgb_model = lgb.LGBMRegressor(objective='regression',num_leaves=35, n_estimators=300)\n",
    "lgb_model.fit(Xtrain, Ztrain)\n",
    "y_LGB_predict = lgb_model.predict(Xval)\n",
    "LGB_model_error = sqrt(mean_squared_error(np.expm1(Zval), np.expm1(y_LGB_predict)))\n",
    "print(f'LGBM Mean Squared Error - {LGB_model_error}')"
   ]
  },
  {
   "cell_type": "code",
   "execution_count": null,
   "metadata": {},
   "outputs": [],
   "source": []
  },
  {
   "cell_type": "code",
   "execution_count": 72,
   "metadata": {},
   "outputs": [],
   "source": [
    "parms = {'max_depth':8, #maximum depth of a tree\n",
    "         'objective':'reg:linear',\n",
    "         'eta'      :0.05,\n",
    "         'subsample':0.8,#SGD will use this percentage of data\n",
    "         'lambda '  :4, #L2 regularization term,>1 more conservative \n",
    "         'colsample_bytree ':0.9,\n",
    "         'colsample_bylevel':1,\n",
    "         'min_child_weight': 10,\n",
    "         'nthread'  :3}  #number of cpu core to use"
   ]
  },
  {
   "cell_type": "code",
   "execution_count": 73,
   "metadata": {},
   "outputs": [
    {
     "name": "stdout",
     "output_type": "stream",
     "text": [
      "[22:02:14] WARNING: src/objective/regression_obj.cu:152: reg:linear is now deprecated in favor of reg:squarederror.\n",
      "[0]\ttrain-rmse:5.54884\tvalid-rmse:5.55009\n",
      "Multiple eval metrics have been passed: 'valid-rmse' will be used for early stopping.\n",
      "\n",
      "Will train until valid-rmse hasn't improved in 30 rounds.\n",
      "[100]\ttrain-rmse:0.362269\tvalid-rmse:0.365258\n",
      "[200]\ttrain-rmse:0.348688\tvalid-rmse:0.354767\n",
      "[300]\ttrain-rmse:0.340283\tvalid-rmse:0.349009\n",
      "[400]\ttrain-rmse:0.335068\tvalid-rmse:0.34569\n",
      "[500]\ttrain-rmse:0.332262\tvalid-rmse:0.344665\n",
      "[600]\ttrain-rmse:0.328245\tvalid-rmse:0.342243\n",
      "[700]\ttrain-rmse:0.324875\tvalid-rmse:0.340537\n",
      "[800]\ttrain-rmse:0.322624\tvalid-rmse:0.339784\n",
      "[900]\ttrain-rmse:0.319933\tvalid-rmse:0.338583\n",
      "[999]\ttrain-rmse:0.317175\tvalid-rmse:0.337421\n",
      "score = 0.33742, n_boost_round =996.\n"
     ]
    }
   ],
   "source": [
    "model = xgb.train(parms, data_tr, num_boost_round=1000, evals = evallist,\n",
    "                  early_stopping_rounds=30, maximize=False, \n",
    "                  verbose_eval=100)\n",
    "\n",
    "print('score = %1.5f, n_boost_round =%d.'%(model.best_score,model.best_iteration))"
   ]
  },
  {
   "cell_type": "code",
   "execution_count": 63,
   "metadata": {},
   "outputs": [],
   "source": [
    "data_test = xgb.DMatrix(Xval)\n",
    "ztest = model.predict(data_test)"
   ]
  },
  {
   "cell_type": "code",
   "execution_count": null,
   "metadata": {},
   "outputs": [],
   "source": [
    "ensembled_prediction = (0.5*np.expm1(ztest))+(0.5*np.expm1(y_LGB_predict))\n",
    "ensembled_prediction_error = sqrt(mean_squared_error(np.expm1(Zval), ensembled_prediction))\n",
    "\n",
    "print(f'Ensembled Mean Squared Error - {ensembled_prediction_error}')"
   ]
  },
  {
   "cell_type": "code",
   "execution_count": null,
   "metadata": {},
   "outputs": [],
   "source": []
  },
  {
   "cell_type": "code",
   "execution_count": null,
   "metadata": {},
   "outputs": [],
   "source": [
    "#Predicting final test values"
   ]
  },
  {
   "cell_type": "code",
   "execution_count": null,
   "metadata": {},
   "outputs": [],
   "source": [
    "y_XGB_predict = model.predict(data_test)"
   ]
  },
  {
   "cell_type": "code",
   "execution_count": null,
   "metadata": {},
   "outputs": [],
   "source": [
    "y_LGB_predict = np.expm1(lgb_model.predict(X_test_dataset))"
   ]
  },
  {
   "cell_type": "code",
   "execution_count": null,
   "metadata": {},
   "outputs": [],
   "source": [
    "ensembled_prediction = (0.5*y_XGB_predict)+(0.5*y_LGB_predict)\n",
    "submission.to_csv('ensembled_submission.csv', index=False)\n",
    "submission.head(10)"
   ]
  },
  {
   "cell_type": "code",
   "execution_count": 128,
   "metadata": {},
   "outputs": [
    {
     "name": "stdout",
     "output_type": "stream",
     "text": [
      "[20:43:07] WARNING: C:/Users/Administrator/workspace/xgboost-win64_release_1.0.0/src/objective/regression_obj.cu:167: reg:linear is now deprecated in favor of reg:squarederror.\n",
      "[20:43:07] WARNING: C:\\Users\\Administrator\\workspace\\xgboost-win64_release_1.0.0\\src\\learner.cc:328: \n",
      "Parameters: { colsample_bytree , lambda  } might not be used.\n",
      "\n",
      "  This may not be accurate due to some parameters are only used in language bindings but\n",
      "  passed down to XGBoost core.  Or some parameters are not used but slip through this\n",
      "  verification. Please open an issue if you find above cases.\n",
      "\n",
      "\n",
      "[20:43:07] WARNING: C:/Users/Administrator/workspace/xgboost-win64_release_1.0.0/src/objective/regression_obj.cu:167: reg:linear is now deprecated in favor of reg:squarederror.\n",
      "[20:43:07] WARNING: C:\\Users\\Administrator\\workspace\\xgboost-win64_release_1.0.0\\src\\learner.cc:328: \n",
      "Parameters: { colsample_bytree , lambda  } might not be used.\n",
      "\n",
      "  This may not be accurate due to some parameters are only used in language bindings but\n",
      "  passed down to XGBoost core.  Or some parameters are not used but slip through this\n",
      "  verification. Please open an issue if you find above cases.\n",
      "\n",
      "\n",
      "[20:43:07] WARNING: C:/Users/Administrator/workspace/xgboost-win64_release_1.0.0/src/objective/regression_obj.cu:167: reg:linear is now deprecated in favor of reg:squarederror.\n",
      "[20:43:07] WARNING: C:\\Users\\Administrator\\workspace\\xgboost-win64_release_1.0.0\\src\\learner.cc:328: \n",
      "Parameters: { colsample_bytree , lambda  } might not be used.\n",
      "\n",
      "  This may not be accurate due to some parameters are only used in language bindings but\n",
      "  passed down to XGBoost core.  Or some parameters are not used but slip through this\n",
      "  verification. Please open an issue if you find above cases.\n",
      "\n",
      "\n",
      "[20:43:07] WARNING: C:/Users/Administrator/workspace/xgboost-win64_release_1.0.0/src/objective/regression_obj.cu:167: reg:linear is now deprecated in favor of reg:squarederror.\n",
      "[20:43:07] WARNING: C:\\Users\\Administrator\\workspace\\xgboost-win64_release_1.0.0\\src\\learner.cc:328: \n",
      "Parameters: { colsample_bytree , lambda  } might not be used.\n",
      "\n",
      "  This may not be accurate due to some parameters are only used in language bindings but\n",
      "  passed down to XGBoost core.  Or some parameters are not used but slip through this\n",
      "  verification. Please open an issue if you find above cases.\n",
      "\n",
      "\n",
      "[20:43:07] WARNING: C:/Users/Administrator/workspace/xgboost-win64_release_1.0.0/src/objective/regression_obj.cu:167: reg:linear is now deprecated in favor of reg:squarederror.\n",
      "[20:43:07] WARNING: C:\\Users\\Administrator\\workspace\\xgboost-win64_release_1.0.0\\src\\learner.cc:328: \n",
      "Parameters: { colsample_bytree , lambda  } might not be used.\n",
      "\n",
      "  This may not be accurate due to some parameters are only used in language bindings but\n",
      "  passed down to XGBoost core.  Or some parameters are not used but slip through this\n",
      "  verification. Please open an issue if you find above cases.\n",
      "\n",
      "\n"
     ]
    }
   ],
   "source": [
    "cv_results = xgb.cv(\n",
    "    parms,\n",
    "    data_cv,\n",
    "    num_boost_round=1000,\n",
    "    seed=42,\n",
    "    nfold=5,\n",
    "    metrics={'mae'},\n",
    "    early_stopping_rounds=10\n",
    ")"
   ]
  },
  {
   "cell_type": "code",
   "execution_count": 60,
   "metadata": {},
   "outputs": [
    {
     "data": {
      "text/plain": [
       "0.2570456"
      ]
     },
     "execution_count": 60,
     "metadata": {},
     "output_type": "execute_result"
    }
   ],
   "source": [
    "cv_results['test-mae-mean'].min()"
   ]
  },
  {
   "cell_type": "code",
   "execution_count": 64,
   "metadata": {},
   "outputs": [
    {
     "name": "stdout",
     "output_type": "stream",
     "text": [
      "[244.70651 210.94638 355.53302 140.67499 707.644   407.02823 122.32724\n",
      " 365.5083  167.4633  150.64563]\n"
     ]
    }
   ],
   "source": [
    "ytest = np.exp(ztest-1)\n",
    "print(ytest[:10])"
   ]
  },
  {
   "cell_type": "code",
   "execution_count": null,
   "metadata": {},
   "outputs": [],
   "source": [
    "from sklearn.metrics import mean_absolute_error"
   ]
  },
  {
   "cell_type": "code",
   "execution_count": 66,
   "metadata": {},
   "outputs": [
    {
     "name": "stdout",
     "output_type": "stream",
     "text": [
      "Baseline MAE is 239.08\n"
     ]
    }
   ],
   "source": [
    "# \"Learn\" the mean from the training data\n",
    "mean_train = np.mean(z)\n",
    "# Get predictions on the test set\n",
    "baseline_predictions = np.ones(ztest.shape) * mean_train\n",
    "# Compute MAE\n",
    "mae_baseline = mean_absolute_error(ytest, baseline_predictions)\n",
    "print(\"Baseline MAE is {:.2f}\".format(mae_baseline))"
   ]
  },
  {
   "cell_type": "code",
   "execution_count": 138,
   "metadata": {},
   "outputs": [
    {
     "name": "stdout",
     "output_type": "stream",
     "text": [
      "87485.72\n",
      "295.77985\n"
     ]
    }
   ],
   "source": [
    "import sklearn.metrics as metrics\n",
    "from sklearn.metrics import accuracy_score\n",
    "\n",
    "print(metrics.mean_squared_error(ytest, ztest))\n",
    "print(np.sqrt(metrics.mean_squared_error(ytest,ztest)))"
   ]
  },
  {
   "cell_type": "markdown",
   "metadata": {},
   "source": [
    "## Don't Run-Hyperparameter Tuning"
   ]
  },
  {
   "cell_type": "code",
   "execution_count": 45,
   "metadata": {},
   "outputs": [],
   "source": [
    "gridsearch_params = [\n",
    "    (max_depth, min_child_weight)\n",
    "    for max_depth in range(6,10)\n",
    "    for min_child_weight in range(8,12)\n",
    "]"
   ]
  },
  {
   "cell_type": "code",
   "execution_count": 46,
   "metadata": {},
   "outputs": [
    {
     "name": "stdout",
     "output_type": "stream",
     "text": [
      "CV with max_depth=6, min_child_weight=8\n",
      "[13:49:45] WARNING: /workspace/src/objective/regression_obj.cu:152: reg:linear is now deprecated in favor of reg:squarederror.\n",
      "[13:49:45] WARNING: /workspace/src/objective/regression_obj.cu:152: reg:linear is now deprecated in favor of reg:squarederror.\n",
      "[13:49:45] WARNING: /workspace/src/objective/regression_obj.cu:152: reg:linear is now deprecated in favor of reg:squarederror.\n",
      "[13:49:45] WARNING: /workspace/src/objective/regression_obj.cu:152: reg:linear is now deprecated in favor of reg:squarederror.\n",
      "[13:49:45] WARNING: /workspace/src/objective/regression_obj.cu:152: reg:linear is now deprecated in favor of reg:squarederror.\n"
     ]
    },
    {
     "name": "stderr",
     "output_type": "stream",
     "text": [
      "/opt/software/hadoop/python36/lib/python3.6/site-packages/ipykernel_launcher.py:23: FutureWarning: \n",
      "The current behaviour of 'Series.argmin' is deprecated, use 'idxmin'\n",
      "instead.\n",
      "The behavior of 'argmin' will be corrected to return the positional\n",
      "minimum in the future. For now, use 'series.values.argmin' or\n",
      "'np.argmin(np.array(values))' to get the position of the minimum\n",
      "row.\n"
     ]
    },
    {
     "name": "stdout",
     "output_type": "stream",
     "text": [
      "\tMAE 0.28999559999999996 for 202 rounds\n",
      "CV with max_depth=6, min_child_weight=9\n",
      "[13:50:26] WARNING: /workspace/src/objective/regression_obj.cu:152: reg:linear is now deprecated in favor of reg:squarederror.\n",
      "[13:50:26] WARNING: /workspace/src/objective/regression_obj.cu:152: reg:linear is now deprecated in favor of reg:squarederror.\n",
      "[13:50:27] WARNING: /workspace/src/objective/regression_obj.cu:152: reg:linear is now deprecated in favor of reg:squarederror.\n",
      "[13:50:27] WARNING: /workspace/src/objective/regression_obj.cu:152: reg:linear is now deprecated in favor of reg:squarederror.\n",
      "[13:50:27] WARNING: /workspace/src/objective/regression_obj.cu:152: reg:linear is now deprecated in favor of reg:squarederror.\n",
      "\tMAE 0.2901306 for 226 rounds\n",
      "CV with max_depth=6, min_child_weight=10\n",
      "[13:51:12] WARNING: /workspace/src/objective/regression_obj.cu:152: reg:linear is now deprecated in favor of reg:squarederror.\n",
      "[13:51:12] WARNING: /workspace/src/objective/regression_obj.cu:152: reg:linear is now deprecated in favor of reg:squarederror.\n",
      "[13:51:12] WARNING: /workspace/src/objective/regression_obj.cu:152: reg:linear is now deprecated in favor of reg:squarederror.\n",
      "[13:51:12] WARNING: /workspace/src/objective/regression_obj.cu:152: reg:linear is now deprecated in favor of reg:squarederror.\n",
      "[13:51:12] WARNING: /workspace/src/objective/regression_obj.cu:152: reg:linear is now deprecated in favor of reg:squarederror.\n",
      "\tMAE 0.29013900000000004 for 217 rounds\n",
      "CV with max_depth=6, min_child_weight=11\n",
      "[13:51:56] WARNING: /workspace/src/objective/regression_obj.cu:152: reg:linear is now deprecated in favor of reg:squarederror.\n",
      "[13:51:56] WARNING: /workspace/src/objective/regression_obj.cu:152: reg:linear is now deprecated in favor of reg:squarederror.\n",
      "[13:51:56] WARNING: /workspace/src/objective/regression_obj.cu:152: reg:linear is now deprecated in favor of reg:squarederror.\n",
      "[13:51:56] WARNING: /workspace/src/objective/regression_obj.cu:152: reg:linear is now deprecated in favor of reg:squarederror.\n",
      "[13:51:56] WARNING: /workspace/src/objective/regression_obj.cu:152: reg:linear is now deprecated in favor of reg:squarederror.\n",
      "\tMAE 0.2894302 for 283 rounds\n",
      "CV with max_depth=7, min_child_weight=8\n",
      "[13:52:53] WARNING: /workspace/src/objective/regression_obj.cu:152: reg:linear is now deprecated in favor of reg:squarederror.\n",
      "[13:52:53] WARNING: /workspace/src/objective/regression_obj.cu:152: reg:linear is now deprecated in favor of reg:squarederror.\n",
      "[13:52:53] WARNING: /workspace/src/objective/regression_obj.cu:152: reg:linear is now deprecated in favor of reg:squarederror.\n",
      "[13:52:53] WARNING: /workspace/src/objective/regression_obj.cu:152: reg:linear is now deprecated in favor of reg:squarederror.\n",
      "[13:52:53] WARNING: /workspace/src/objective/regression_obj.cu:152: reg:linear is now deprecated in favor of reg:squarederror.\n",
      "\tMAE 0.28862740000000003 for 186 rounds\n",
      "CV with max_depth=7, min_child_weight=9\n",
      "[13:53:38] WARNING: /workspace/src/objective/regression_obj.cu:152: reg:linear is now deprecated in favor of reg:squarederror.\n",
      "[13:53:38] WARNING: /workspace/src/objective/regression_obj.cu:152: reg:linear is now deprecated in favor of reg:squarederror.\n",
      "[13:53:38] WARNING: /workspace/src/objective/regression_obj.cu:152: reg:linear is now deprecated in favor of reg:squarederror.\n",
      "[13:53:38] WARNING: /workspace/src/objective/regression_obj.cu:152: reg:linear is now deprecated in favor of reg:squarederror.\n",
      "[13:53:38] WARNING: /workspace/src/objective/regression_obj.cu:152: reg:linear is now deprecated in favor of reg:squarederror.\n",
      "\tMAE 0.28949479999999994 for 172 rounds\n",
      "CV with max_depth=7, min_child_weight=10\n",
      "[13:54:19] WARNING: /workspace/src/objective/regression_obj.cu:152: reg:linear is now deprecated in favor of reg:squarederror.\n",
      "[13:54:19] WARNING: /workspace/src/objective/regression_obj.cu:152: reg:linear is now deprecated in favor of reg:squarederror.\n",
      "[13:54:19] WARNING: /workspace/src/objective/regression_obj.cu:152: reg:linear is now deprecated in favor of reg:squarederror.\n",
      "[13:54:19] WARNING: /workspace/src/objective/regression_obj.cu:152: reg:linear is now deprecated in favor of reg:squarederror.\n",
      "[13:54:19] WARNING: /workspace/src/objective/regression_obj.cu:152: reg:linear is now deprecated in favor of reg:squarederror.\n",
      "\tMAE 0.2889444 for 191 rounds\n",
      "CV with max_depth=7, min_child_weight=11\n",
      "[13:55:05] WARNING: /workspace/src/objective/regression_obj.cu:152: reg:linear is now deprecated in favor of reg:squarederror.\n",
      "[13:55:05] WARNING: /workspace/src/objective/regression_obj.cu:152: reg:linear is now deprecated in favor of reg:squarederror.\n",
      "[13:55:05] WARNING: /workspace/src/objective/regression_obj.cu:152: reg:linear is now deprecated in favor of reg:squarederror.\n",
      "[13:55:05] WARNING: /workspace/src/objective/regression_obj.cu:152: reg:linear is now deprecated in favor of reg:squarederror.\n",
      "[13:55:05] WARNING: /workspace/src/objective/regression_obj.cu:152: reg:linear is now deprecated in favor of reg:squarederror.\n",
      "\tMAE 0.2884068 for 222 rounds\n",
      "CV with max_depth=8, min_child_weight=8\n",
      "[13:55:57] WARNING: /workspace/src/objective/regression_obj.cu:152: reg:linear is now deprecated in favor of reg:squarederror.\n",
      "[13:55:57] WARNING: /workspace/src/objective/regression_obj.cu:152: reg:linear is now deprecated in favor of reg:squarederror.\n",
      "[13:55:57] WARNING: /workspace/src/objective/regression_obj.cu:152: reg:linear is now deprecated in favor of reg:squarederror.\n",
      "[13:55:57] WARNING: /workspace/src/objective/regression_obj.cu:152: reg:linear is now deprecated in favor of reg:squarederror.\n",
      "[13:55:57] WARNING: /workspace/src/objective/regression_obj.cu:152: reg:linear is now deprecated in favor of reg:squarederror.\n",
      "\tMAE 0.28911539999999997 for 154 rounds\n",
      "CV with max_depth=8, min_child_weight=9\n",
      "[13:56:40] WARNING: /workspace/src/objective/regression_obj.cu:152: reg:linear is now deprecated in favor of reg:squarederror.\n",
      "[13:56:40] WARNING: /workspace/src/objective/regression_obj.cu:152: reg:linear is now deprecated in favor of reg:squarederror.\n",
      "[13:56:40] WARNING: /workspace/src/objective/regression_obj.cu:152: reg:linear is now deprecated in favor of reg:squarederror.\n",
      "[13:56:41] WARNING: /workspace/src/objective/regression_obj.cu:152: reg:linear is now deprecated in favor of reg:squarederror.\n",
      "[13:56:41] WARNING: /workspace/src/objective/regression_obj.cu:152: reg:linear is now deprecated in favor of reg:squarederror.\n",
      "\tMAE 0.2876172 for 168 rounds\n",
      "CV with max_depth=8, min_child_weight=10\n",
      "[13:57:28] WARNING: /workspace/src/objective/regression_obj.cu:152: reg:linear is now deprecated in favor of reg:squarederror.\n",
      "[13:57:28] WARNING: /workspace/src/objective/regression_obj.cu:152: reg:linear is now deprecated in favor of reg:squarederror.\n",
      "[13:57:28] WARNING: /workspace/src/objective/regression_obj.cu:152: reg:linear is now deprecated in favor of reg:squarederror.\n",
      "[13:57:28] WARNING: /workspace/src/objective/regression_obj.cu:152: reg:linear is now deprecated in favor of reg:squarederror.\n",
      "[13:57:28] WARNING: /workspace/src/objective/regression_obj.cu:152: reg:linear is now deprecated in favor of reg:squarederror.\n",
      "\tMAE 0.288269 for 171 rounds\n",
      "CV with max_depth=8, min_child_weight=11\n",
      "[13:58:16] WARNING: /workspace/src/objective/regression_obj.cu:152: reg:linear is now deprecated in favor of reg:squarederror.\n",
      "[13:58:16] WARNING: /workspace/src/objective/regression_obj.cu:152: reg:linear is now deprecated in favor of reg:squarederror.\n",
      "[13:58:16] WARNING: /workspace/src/objective/regression_obj.cu:152: reg:linear is now deprecated in favor of reg:squarederror.\n",
      "[13:58:16] WARNING: /workspace/src/objective/regression_obj.cu:152: reg:linear is now deprecated in favor of reg:squarederror.\n",
      "[13:58:16] WARNING: /workspace/src/objective/regression_obj.cu:152: reg:linear is now deprecated in favor of reg:squarederror.\n",
      "\tMAE 0.2877444 for 180 rounds\n",
      "CV with max_depth=9, min_child_weight=8\n",
      "[13:59:06] WARNING: /workspace/src/objective/regression_obj.cu:152: reg:linear is now deprecated in favor of reg:squarederror.\n",
      "[13:59:06] WARNING: /workspace/src/objective/regression_obj.cu:152: reg:linear is now deprecated in favor of reg:squarederror.\n",
      "[13:59:06] WARNING: /workspace/src/objective/regression_obj.cu:152: reg:linear is now deprecated in favor of reg:squarederror.\n",
      "[13:59:06] WARNING: /workspace/src/objective/regression_obj.cu:152: reg:linear is now deprecated in favor of reg:squarederror.\n",
      "[13:59:07] WARNING: /workspace/src/objective/regression_obj.cu:152: reg:linear is now deprecated in favor of reg:squarederror.\n",
      "\tMAE 0.28824 for 111 rounds\n",
      "CV with max_depth=9, min_child_weight=9\n",
      "[13:59:43] WARNING: /workspace/src/objective/regression_obj.cu:152: reg:linear is now deprecated in favor of reg:squarederror.\n",
      "[13:59:43] WARNING: /workspace/src/objective/regression_obj.cu:152: reg:linear is now deprecated in favor of reg:squarederror.\n",
      "[13:59:43] WARNING: /workspace/src/objective/regression_obj.cu:152: reg:linear is now deprecated in favor of reg:squarederror.\n",
      "[13:59:43] WARNING: /workspace/src/objective/regression_obj.cu:152: reg:linear is now deprecated in favor of reg:squarederror.\n",
      "[13:59:43] WARNING: /workspace/src/objective/regression_obj.cu:152: reg:linear is now deprecated in favor of reg:squarederror.\n",
      "\tMAE 0.2881294 for 109 rounds\n",
      "CV with max_depth=9, min_child_weight=10\n",
      "[14:00:18] WARNING: /workspace/src/objective/regression_obj.cu:152: reg:linear is now deprecated in favor of reg:squarederror.\n",
      "[14:00:18] WARNING: /workspace/src/objective/regression_obj.cu:152: reg:linear is now deprecated in favor of reg:squarederror.\n",
      "[14:00:18] WARNING: /workspace/src/objective/regression_obj.cu:152: reg:linear is now deprecated in favor of reg:squarederror.\n",
      "[14:00:18] WARNING: /workspace/src/objective/regression_obj.cu:152: reg:linear is now deprecated in favor of reg:squarederror.\n",
      "[14:00:18] WARNING: /workspace/src/objective/regression_obj.cu:152: reg:linear is now deprecated in favor of reg:squarederror.\n",
      "\tMAE 0.2882106 for 110 rounds\n",
      "CV with max_depth=9, min_child_weight=11\n",
      "[14:00:50] WARNING: /workspace/src/objective/regression_obj.cu:152: reg:linear is now deprecated in favor of reg:squarederror.\n",
      "[14:00:50] WARNING: /workspace/src/objective/regression_obj.cu:152: reg:linear is now deprecated in favor of reg:squarederror.\n",
      "[14:00:50] WARNING: /workspace/src/objective/regression_obj.cu:152: reg:linear is now deprecated in favor of reg:squarederror.\n",
      "[14:00:50] WARNING: /workspace/src/objective/regression_obj.cu:152: reg:linear is now deprecated in favor of reg:squarederror.\n",
      "[14:00:50] WARNING: /workspace/src/objective/regression_obj.cu:152: reg:linear is now deprecated in favor of reg:squarederror.\n",
      "\tMAE 0.2888112 for 126 rounds\n",
      "Best params: 8, 9, MAE: 0.2876172\n"
     ]
    }
   ],
   "source": [
    "# Define initial best params and MAE\n",
    "min_mae = float(\"Inf\")\n",
    "best_params = None\n",
    "for max_depth, min_child_weight in gridsearch_params:\n",
    "    print(\"CV with max_depth={}, min_child_weight={}\".format(\n",
    "                             max_depth,\n",
    "                             min_child_weight))\n",
    "    # Update our parameters\n",
    "    parms['max_depth'] = max_depth\n",
    "    parms['min_child_weight'] = min_child_weight\n",
    "    # Run CV\n",
    "    cv_results = xgb.cv(\n",
    "        parms,\n",
    "        data_cv,\n",
    "        num_boost_round=1000,\n",
    "        seed=42,\n",
    "        nfold=5,\n",
    "        metrics={'mae'},\n",
    "        early_stopping_rounds=10\n",
    "    )\n",
    "    # Update best MAE\n",
    "    mean_mae = cv_results['test-mae-mean'].min()\n",
    "    boost_rounds = cv_results['test-mae-mean'].argmin()\n",
    "    print(\"\\tMAE {} for {} rounds\".format(mean_mae, boost_rounds))\n",
    "    if mean_mae < min_mae:\n",
    "        min_mae = mean_mae\n",
    "        best_params = (max_depth,min_child_weight)\n",
    "print(\"Best params: {}, {}, MAE: {}\".format(best_params[0], best_params[1], min_mae))"
   ]
  },
  {
   "cell_type": "code",
   "execution_count": 50,
   "metadata": {},
   "outputs": [
    {
     "name": "stdout",
     "output_type": "stream",
     "text": [
      "CPU times: user 12 µs, sys: 0 ns, total: 12 µs\n",
      "Wall time: 31.5 µs\n",
      "CV with eta=0.3\n",
      "[14:04:14] WARNING: /workspace/src/objective/regression_obj.cu:152: reg:linear is now deprecated in favor of reg:squarederror.\n",
      "[14:04:14] WARNING: /workspace/src/objective/regression_obj.cu:152: reg:linear is now deprecated in favor of reg:squarederror.\n",
      "[14:04:14] WARNING: /workspace/src/objective/regression_obj.cu:152: reg:linear is now deprecated in favor of reg:squarederror.\n",
      "[14:04:14] WARNING: /workspace/src/objective/regression_obj.cu:152: reg:linear is now deprecated in favor of reg:squarederror.\n",
      "[14:04:14] WARNING: /workspace/src/objective/regression_obj.cu:152: reg:linear is now deprecated in favor of reg:squarederror.\n"
     ]
    },
    {
     "name": "stderr",
     "output_type": "stream",
     "text": [
      "/opt/software/hadoop/python36/lib/python3.6/site-packages/ipykernel_launcher.py:21: FutureWarning: \n",
      "The current behaviour of 'Series.argmin' is deprecated, use 'idxmin'\n",
      "instead.\n",
      "The behavior of 'argmin' will be corrected to return the positional\n",
      "minimum in the future. For now, use 'series.values.argmin' or\n",
      "'np.argmin(np.array(values))' to get the position of the minimum\n",
      "row.\n"
     ]
    },
    {
     "name": "stdout",
     "output_type": "stream",
     "text": [
      "\tMAE 0.2888112 for 126 rounds\n",
      "\n",
      "CV with eta=0.2\n",
      "[14:04:54] WARNING: /workspace/src/objective/regression_obj.cu:152: reg:linear is now deprecated in favor of reg:squarederror.\n",
      "[14:04:55] WARNING: /workspace/src/objective/regression_obj.cu:152: reg:linear is now deprecated in favor of reg:squarederror.\n",
      "[14:04:55] WARNING: /workspace/src/objective/regression_obj.cu:152: reg:linear is now deprecated in favor of reg:squarederror.\n",
      "[14:04:55] WARNING: /workspace/src/objective/regression_obj.cu:152: reg:linear is now deprecated in favor of reg:squarederror.\n",
      "[14:04:55] WARNING: /workspace/src/objective/regression_obj.cu:152: reg:linear is now deprecated in favor of reg:squarederror.\n",
      "\tMAE 0.2846876 for 237 rounds\n",
      "\n",
      "CV with eta=0.1\n",
      "[14:06:07] WARNING: /workspace/src/objective/regression_obj.cu:152: reg:linear is now deprecated in favor of reg:squarederror.\n",
      "[14:06:07] WARNING: /workspace/src/objective/regression_obj.cu:152: reg:linear is now deprecated in favor of reg:squarederror.\n",
      "[14:06:07] WARNING: /workspace/src/objective/regression_obj.cu:152: reg:linear is now deprecated in favor of reg:squarederror.\n",
      "[14:06:07] WARNING: /workspace/src/objective/regression_obj.cu:152: reg:linear is now deprecated in favor of reg:squarederror.\n",
      "[14:06:07] WARNING: /workspace/src/objective/regression_obj.cu:152: reg:linear is now deprecated in favor of reg:squarederror.\n",
      "\tMAE 0.28096620000000005 for 495 rounds\n",
      "\n",
      "CV with eta=0.05\n",
      "[14:08:35] WARNING: /workspace/src/objective/regression_obj.cu:152: reg:linear is now deprecated in favor of reg:squarederror.\n",
      "[14:08:35] WARNING: /workspace/src/objective/regression_obj.cu:152: reg:linear is now deprecated in favor of reg:squarederror.\n",
      "[14:08:36] WARNING: /workspace/src/objective/regression_obj.cu:152: reg:linear is now deprecated in favor of reg:squarederror.\n",
      "[14:08:36] WARNING: /workspace/src/objective/regression_obj.cu:152: reg:linear is now deprecated in favor of reg:squarederror.\n",
      "[14:08:36] WARNING: /workspace/src/objective/regression_obj.cu:152: reg:linear is now deprecated in favor of reg:squarederror.\n",
      "\tMAE 0.2795166 for 999 rounds\n",
      "\n",
      "CV with eta=0.01\n",
      "[14:13:30] WARNING: /workspace/src/objective/regression_obj.cu:152: reg:linear is now deprecated in favor of reg:squarederror.\n",
      "[14:13:30] WARNING: /workspace/src/objective/regression_obj.cu:152: reg:linear is now deprecated in favor of reg:squarederror.\n",
      "[14:13:30] WARNING: /workspace/src/objective/regression_obj.cu:152: reg:linear is now deprecated in favor of reg:squarederror.\n",
      "[14:13:30] WARNING: /workspace/src/objective/regression_obj.cu:152: reg:linear is now deprecated in favor of reg:squarederror.\n",
      "[14:13:30] WARNING: /workspace/src/objective/regression_obj.cu:152: reg:linear is now deprecated in favor of reg:squarederror.\n",
      "\tMAE 0.28850680000000006 for 999 rounds\n",
      "\n",
      "CV with eta=0.005\n",
      "[14:18:31] WARNING: /workspace/src/objective/regression_obj.cu:152: reg:linear is now deprecated in favor of reg:squarederror.\n",
      "[14:18:31] WARNING: /workspace/src/objective/regression_obj.cu:152: reg:linear is now deprecated in favor of reg:squarederror.\n",
      "[14:18:31] WARNING: /workspace/src/objective/regression_obj.cu:152: reg:linear is now deprecated in favor of reg:squarederror.\n",
      "[14:18:31] WARNING: /workspace/src/objective/regression_obj.cu:152: reg:linear is now deprecated in favor of reg:squarederror.\n",
      "[14:18:31] WARNING: /workspace/src/objective/regression_obj.cu:152: reg:linear is now deprecated in favor of reg:squarederror.\n",
      "\tMAE 0.2938856 for 999 rounds\n",
      "\n",
      "Best params: 0.05, MAE: 0.2795166\n"
     ]
    }
   ],
   "source": [
    "# tuning eta \n",
    "%time\n",
    "# This can take some time…\n",
    "min_mae = float(\"Inf\")\n",
    "best_params = None\n",
    "for eta in [.3, .2, .1, .05, .01, .005]:\n",
    "    print(\"CV with eta={}\".format(eta))\n",
    "    # We update our parameters\n",
    "    parms['eta'] = eta\n",
    "    # Run and time CV\n",
    "    cv_results = xgb.cv(parms,\n",
    "                                data_cv,\n",
    "                                num_boost_round=1000,\n",
    "                                seed=42,\n",
    "                                nfold=5,\n",
    "                                metrics=['mae'],\n",
    "                                early_stopping_rounds=10\n",
    "          )\n",
    "    # Update best score\n",
    "    mean_mae = cv_results['test-mae-mean'].min()\n",
    "    boost_rounds = cv_results['test-mae-mean'].argmin()\n",
    "    print(\"\\tMAE {} for {} rounds\\n\".format(mean_mae, boost_rounds))\n",
    "    if mean_mae < min_mae:\n",
    "        min_mae = mean_mae\n",
    "        best_params = eta\n",
    "print(\"Best params: {}, MAE: {}\".format(best_params, min_mae))"
   ]
  },
  {
   "cell_type": "markdown",
   "metadata": {},
   "source": [
    "# Prediction on Test Data"
   ]
  },
  {
   "cell_type": "code",
   "execution_count": 129,
   "metadata": {},
   "outputs": [
    {
     "data": {
      "text/html": [
       "<div>\n",
       "<style scoped>\n",
       "    .dataframe tbody tr th:only-of-type {\n",
       "        vertical-align: middle;\n",
       "    }\n",
       "\n",
       "    .dataframe tbody tr th {\n",
       "        vertical-align: top;\n",
       "    }\n",
       "\n",
       "    .dataframe thead th {\n",
       "        text-align: right;\n",
       "    }\n",
       "</style>\n",
       "<table border=\"1\" class=\"dataframe\">\n",
       "  <thead>\n",
       "    <tr style=\"text-align: right;\">\n",
       "      <th></th>\n",
       "      <th>pickup_datetime</th>\n",
       "      <th>NumberOfPassengers</th>\n",
       "      <th>pickup_x</th>\n",
       "      <th>pickup_y</th>\n",
       "      <th>dropoff_x</th>\n",
       "      <th>dropoff_y</th>\n",
       "      <th>Month</th>\n",
       "      <th>DayofMonth</th>\n",
       "      <th>Hour</th>\n",
       "      <th>dayofweek</th>\n",
       "      <th>rushhr</th>\n",
       "      <th>weekendweekday</th>\n",
       "      <th>Distance</th>\n",
       "      <th>pickup_dropoff_loc</th>\n",
       "    </tr>\n",
       "  </thead>\n",
       "  <tbody>\n",
       "    <tr>\n",
       "      <th>0</th>\n",
       "      <td>2034-03-14 08:28:17</td>\n",
       "      <td>2</td>\n",
       "      <td>155.108652</td>\n",
       "      <td>322.284140</td>\n",
       "      <td>148.058424</td>\n",
       "      <td>332.814003</td>\n",
       "      <td>3</td>\n",
       "      <td>14</td>\n",
       "      <td>8</td>\n",
       "      <td>1</td>\n",
       "      <td>2</td>\n",
       "      <td>0</td>\n",
       "      <td>1845.786703</td>\n",
       "      <td>2</td>\n",
       "    </tr>\n",
       "    <tr>\n",
       "      <th>1</th>\n",
       "      <td>2034-04-20 09:04:41</td>\n",
       "      <td>1</td>\n",
       "      <td>146.628808</td>\n",
       "      <td>306.343423</td>\n",
       "      <td>154.284090</td>\n",
       "      <td>339.899155</td>\n",
       "      <td>4</td>\n",
       "      <td>20</td>\n",
       "      <td>9</td>\n",
       "      <td>3</td>\n",
       "      <td>2</td>\n",
       "      <td>0</td>\n",
       "      <td>3953.483139</td>\n",
       "      <td>1</td>\n",
       "    </tr>\n",
       "    <tr>\n",
       "      <th>2</th>\n",
       "      <td>2034-01-25 00:46:04</td>\n",
       "      <td>2</td>\n",
       "      <td>132.028079</td>\n",
       "      <td>319.183942</td>\n",
       "      <td>149.318583</td>\n",
       "      <td>384.810789</td>\n",
       "      <td>1</td>\n",
       "      <td>25</td>\n",
       "      <td>0</td>\n",
       "      <td>2</td>\n",
       "      <td>1</td>\n",
       "      <td>0</td>\n",
       "      <td>6653.385487</td>\n",
       "      <td>1</td>\n",
       "    </tr>\n",
       "    <tr>\n",
       "      <th>3</th>\n",
       "      <td>2034-02-01 22:20:46</td>\n",
       "      <td>2</td>\n",
       "      <td>175.776769</td>\n",
       "      <td>344.277029</td>\n",
       "      <td>159.039740</td>\n",
       "      <td>311.756787</td>\n",
       "      <td>2</td>\n",
       "      <td>1</td>\n",
       "      <td>22</td>\n",
       "      <td>2</td>\n",
       "      <td>4</td>\n",
       "      <td>0</td>\n",
       "      <td>5467.068525</td>\n",
       "      <td>2</td>\n",
       "    </tr>\n",
       "    <tr>\n",
       "      <th>4</th>\n",
       "      <td>2034-04-15 23:29:21</td>\n",
       "      <td>2</td>\n",
       "      <td>128.428489</td>\n",
       "      <td>295.153348</td>\n",
       "      <td>126.011933</td>\n",
       "      <td>309.548102</td>\n",
       "      <td>4</td>\n",
       "      <td>15</td>\n",
       "      <td>23</td>\n",
       "      <td>5</td>\n",
       "      <td>4</td>\n",
       "      <td>1</td>\n",
       "      <td>1261.947305</td>\n",
       "      <td>1</td>\n",
       "    </tr>\n",
       "  </tbody>\n",
       "</table>\n",
       "</div>"
      ],
      "text/plain": [
       "      pickup_datetime  NumberOfPassengers    pickup_x    pickup_y   dropoff_x  \\\n",
       "0 2034-03-14 08:28:17                   2  155.108652  322.284140  148.058424   \n",
       "1 2034-04-20 09:04:41                   1  146.628808  306.343423  154.284090   \n",
       "2 2034-01-25 00:46:04                   2  132.028079  319.183942  149.318583   \n",
       "3 2034-02-01 22:20:46                   2  175.776769  344.277029  159.039740   \n",
       "4 2034-04-15 23:29:21                   2  128.428489  295.153348  126.011933   \n",
       "\n",
       "    dropoff_y  Month  DayofMonth  Hour  dayofweek  rushhr  weekendweekday  \\\n",
       "0  332.814003      3          14     8          1       2               0   \n",
       "1  339.899155      4          20     9          3       2               0   \n",
       "2  384.810789      1          25     0          2       1               0   \n",
       "3  311.756787      2           1    22          2       4               0   \n",
       "4  309.548102      4          15    23          5       4               1   \n",
       "\n",
       "      Distance  pickup_dropoff_loc  \n",
       "0  1845.786703                   2  \n",
       "1  3953.483139                   1  \n",
       "2  6653.385487                   1  \n",
       "3  5467.068525                   2  \n",
       "4  1261.947305                   1  "
      ]
     },
     "execution_count": 129,
     "metadata": {},
     "output_type": "execute_result"
    }
   ],
   "source": [
    "test.head()"
   ]
  },
  {
   "cell_type": "code",
   "execution_count": 127,
   "metadata": {},
   "outputs": [
    {
     "data": {
      "text/html": [
       "<div>\n",
       "<style scoped>\n",
       "    .dataframe tbody tr th:only-of-type {\n",
       "        vertical-align: middle;\n",
       "    }\n",
       "\n",
       "    .dataframe tbody tr th {\n",
       "        vertical-align: top;\n",
       "    }\n",
       "\n",
       "    .dataframe thead th {\n",
       "        text-align: right;\n",
       "    }\n",
       "</style>\n",
       "<table border=\"1\" class=\"dataframe\">\n",
       "  <thead>\n",
       "    <tr style=\"text-align: right;\">\n",
       "      <th></th>\n",
       "      <th>Distance</th>\n",
       "      <th>dayofweek</th>\n",
       "      <th>Hour</th>\n",
       "      <th>pickup_x</th>\n",
       "      <th>pickup_y</th>\n",
       "      <th>dropoff_x</th>\n",
       "      <th>dropoff_y</th>\n",
       "    </tr>\n",
       "  </thead>\n",
       "  <tbody>\n",
       "    <tr>\n",
       "      <th>0</th>\n",
       "      <td>1845.786703</td>\n",
       "      <td>1</td>\n",
       "      <td>8</td>\n",
       "      <td>155.108652</td>\n",
       "      <td>322.284140</td>\n",
       "      <td>148.058424</td>\n",
       "      <td>332.814003</td>\n",
       "    </tr>\n",
       "    <tr>\n",
       "      <th>1</th>\n",
       "      <td>3953.483139</td>\n",
       "      <td>3</td>\n",
       "      <td>9</td>\n",
       "      <td>146.628808</td>\n",
       "      <td>306.343423</td>\n",
       "      <td>154.284090</td>\n",
       "      <td>339.899155</td>\n",
       "    </tr>\n",
       "    <tr>\n",
       "      <th>2</th>\n",
       "      <td>6653.385487</td>\n",
       "      <td>2</td>\n",
       "      <td>0</td>\n",
       "      <td>132.028079</td>\n",
       "      <td>319.183942</td>\n",
       "      <td>149.318583</td>\n",
       "      <td>384.810789</td>\n",
       "    </tr>\n",
       "    <tr>\n",
       "      <th>3</th>\n",
       "      <td>5467.068525</td>\n",
       "      <td>2</td>\n",
       "      <td>22</td>\n",
       "      <td>175.776769</td>\n",
       "      <td>344.277029</td>\n",
       "      <td>159.039740</td>\n",
       "      <td>311.756787</td>\n",
       "    </tr>\n",
       "    <tr>\n",
       "      <th>4</th>\n",
       "      <td>1261.947305</td>\n",
       "      <td>5</td>\n",
       "      <td>23</td>\n",
       "      <td>128.428489</td>\n",
       "      <td>295.153348</td>\n",
       "      <td>126.011933</td>\n",
       "      <td>309.548102</td>\n",
       "    </tr>\n",
       "  </tbody>\n",
       "</table>\n",
       "</div>"
      ],
      "text/plain": [
       "      Distance  dayofweek  Hour    pickup_x    pickup_y   dropoff_x  \\\n",
       "0  1845.786703          1     8  155.108652  322.284140  148.058424   \n",
       "1  3953.483139          3     9  146.628808  306.343423  154.284090   \n",
       "2  6653.385487          2     0  132.028079  319.183942  149.318583   \n",
       "3  5467.068525          2    22  175.776769  344.277029  159.039740   \n",
       "4  1261.947305          5    23  128.428489  295.153348  126.011933   \n",
       "\n",
       "    dropoff_y  \n",
       "0  332.814003  \n",
       "1  339.899155  \n",
       "2  384.810789  \n",
       "3  311.756787  \n",
       "4  309.548102  "
      ]
     },
     "execution_count": 127,
     "metadata": {},
     "output_type": "execute_result"
    }
   ],
   "source": [
    "testdf.head()"
   ]
  },
  {
   "cell_type": "code",
   "execution_count": 137,
   "metadata": {},
   "outputs": [
    {
     "name": "stdout",
     "output_type": "stream",
     "text": [
      "[190.10838 412.94916 337.47318 230.22418 190.06679 724.1901   75.3582\n",
      "  79.36563 152.58974 437.82657]\n"
     ]
    }
   ],
   "source": [
    "#Make predictions on test data frame\n",
    "data_test = xgb.DMatrix(testdf)\n",
    "ztest = model.predict(data_test)\n",
    "ytest = np.exp(ztest-1)\n",
    "print(ytest[:10])"
   ]
  },
  {
   "cell_type": "code",
   "execution_count": 136,
   "metadata": {},
   "outputs": [
    {
     "data": {
      "text/html": [
       "<div>\n",
       "<style scoped>\n",
       "    .dataframe tbody tr th:only-of-type {\n",
       "        vertical-align: middle;\n",
       "    }\n",
       "\n",
       "    .dataframe tbody tr th {\n",
       "        vertical-align: top;\n",
       "    }\n",
       "\n",
       "    .dataframe thead th {\n",
       "        text-align: right;\n",
       "    }\n",
       "</style>\n",
       "<table border=\"1\" class=\"dataframe\">\n",
       "  <thead>\n",
       "    <tr style=\"text-align: right;\">\n",
       "      <th></th>\n",
       "      <th>duration</th>\n",
       "    </tr>\n",
       "  </thead>\n",
       "  <tbody>\n",
       "    <tr>\n",
       "      <th>0</th>\n",
       "      <td>190.108383</td>\n",
       "    </tr>\n",
       "    <tr>\n",
       "      <th>1</th>\n",
       "      <td>412.949158</td>\n",
       "    </tr>\n",
       "    <tr>\n",
       "      <th>2</th>\n",
       "      <td>337.473175</td>\n",
       "    </tr>\n",
       "    <tr>\n",
       "      <th>3</th>\n",
       "      <td>230.224182</td>\n",
       "    </tr>\n",
       "    <tr>\n",
       "      <th>4</th>\n",
       "      <td>190.066788</td>\n",
       "    </tr>\n",
       "  </tbody>\n",
       "</table>\n",
       "</div>"
      ],
      "text/plain": [
       "     duration\n",
       "0  190.108383\n",
       "1  412.949158\n",
       "2  337.473175\n",
       "3  230.224182\n",
       "4  190.066788"
      ]
     },
     "execution_count": 136,
     "metadata": {},
     "output_type": "execute_result"
    }
   ],
   "source": [
    "#Create a data frame for submission\n",
    "final_result = pd.DataFrame({'duration': ytest})\n",
    "final_result.head()"
   ]
  },
  {
   "cell_type": "code",
   "execution_count": 133,
   "metadata": {},
   "outputs": [],
   "source": [
    "#Create a csv out of the submission data frame\n",
    "final_result.to_csv(\"G.csv\", index=False)"
   ]
  }
 ],
 "metadata": {
  "kernelspec": {
   "display_name": "Python 3",
   "language": "python",
   "name": "python3"
  },
  "language_info": {
   "codemirror_mode": {
    "name": "ipython",
    "version": 3
   },
   "file_extension": ".py",
   "mimetype": "text/x-python",
   "name": "python",
   "nbconvert_exporter": "python",
   "pygments_lexer": "ipython3",
   "version": "3.7.3"
  }
 },
 "nbformat": 4,
 "nbformat_minor": 2
}
